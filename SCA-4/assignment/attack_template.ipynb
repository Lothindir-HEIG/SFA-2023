{
 "cells": [
  {
   "cell_type": "markdown",
   "metadata": {},
   "source": [
    "### Description:\n",
    "\n",
    "AES-128 algorithm with a hardcoded key is available as service.\n",
    "\n",
    "To perform encryption, the binary requires 16-bytes plaintext (in hex):\n",
    "\n",
    "```\n",
    "    ../wbcenc --ptext=\"010203040506070809000a0b0c0d0e1f\"\n",
    "```    \n",
    "The result is printed to console:\n",
    "```\n",
    "    97935516ADA083B7A1F13BD9D89EBC11 0803050A0502040107030600030504...30506060B0A060205\n",
    "```    \n",
    "where:\n",
    "```\n",
    "    97935516ADA083B7A1F13BD9D89EBC11 is a ciphertext\n",
    "    \n",
    "    0803050A0502040107030600030504...30506060B0A060205 is a trace (information left by a programmer)\n",
    "```\n",
    "### Tips:\n",
    "\n",
    "A 'trace' is a side-channel information left by a programmer to debug the implementation.\n",
    "\n",
    "In this example a trace consists of a random data plus at certain position a trace contains Hamming weights of bytes for a 10th round input state of the AES-128 algorithm, i.e., a State before the Sbox operation in the last round. Those Hamming weights contain also some noise (they are not perfectly measured).\n",
    "\n",
    "### Task:\n",
    "\n",
    "Your task is to find the Master key (round key 0) embedded into the binary. \n",
    "\n",
    "The master key is in the form of HEIG{XXXXXXXXXX}, where X is an ASCII printable symbol."
   ]
  },
  {
   "cell_type": "markdown",
   "metadata": {},
   "source": [
    "### Leakage illustration\n",
    "\n",
    "<img src=\"support/Slide.png\">"
   ]
  },
  {
   "cell_type": "code",
   "execution_count": 1,
   "metadata": {
    "tags": []
   },
   "outputs": [],
   "source": [
    "import numpy as np\n",
    "import binascii\n",
    "import string\n",
    "import re\n",
    "import socket\n",
    "\n",
    "HOST = 'iict-mv330-sfa'\n",
    "PORT = 4003\n",
    "\n",
    "import sca_training\n",
    "#----------------------------------------------------------------------------\n",
    "# This function calls tested binary ../wbcenc either with a user-defined \n",
    "# plaintext (if plaintext satisfies all the requirements) or with a \n",
    "# predefined plaintext (the same as in the header above)\n",
    "#\n",
    "# INPUTS:\n",
    "#     plaintext - a string of 32 symbols representing 16 hex bytes of ciphertext\n",
    "#     verbose   - a flag to print values in the function call or not\n",
    "# OUTPUTS:\n",
    "#     output  - a raw binary output\n",
    "#     ctext   - resulted ciphertext converted to numpy array of uint8\n",
    "#     trace   - a trace associated with encryption process\n",
    "#----------------------------------------------------------------------------\n",
    "def binary_aes128_encrypt(plaintext, verbose=False):\n",
    "    import subprocess\n",
    "    pattern = '[0-9A-F]{32,324}'\n",
    "    \n",
    "    #Check the correctness of the plaintext\n",
    "    if all(c in string.hexdigits for c in plaintext) and len(plaintext) == 32:\n",
    "        \n",
    "        with socket.socket(socket.AF_INET, socket.SOCK_STREAM) as s:\n",
    "            s.connect((HOST, PORT))\n",
    "            s.recv(1024)\n",
    "            s.sendall(plaintext.encode())\n",
    "            s.sendall(b'\\n')\n",
    "\n",
    "            output = s.recv(1024)\n",
    "    \n",
    "    #Get the ciphertext (first 32 symbols) and the trace (last 32 symbols)\n",
    "    result = re.findall(pattern, str(output))\n",
    "    #print(result[0], result[1])\n",
    "    \n",
    "    #Transform the result into numpy array\n",
    "    ctext = np.frombuffer(binascii.unhexlify(result[0]), dtype=np.uint8)\n",
    "    trace = np.frombuffer(binascii.unhexlify(result[1]), dtype=np.uint8)\n",
    "\n",
    "    if (verbose):\n",
    "        print('Binary output:', output.strip())\n",
    "        print('Ciphertext as numpy array:', ctext)\n",
    "        print('Trace as numpy array:', trace)\n",
    "    \n",
    "    return output, ctext, trace\n",
    "\n",
    "\n",
    "#----------------------------------------------------------------------------\n",
    "# This function calls supportive library to compute a master key from\n",
    "# the last round key.\n",
    "#\n",
    "# INPUTS:\n",
    "#     last_round_key - a numpy array of 16 elements representing 16 hex bytes of\n",
    "#                      the last round key, i.e., Round Key 10\n",
    "# OUTPUTS:\n",
    "#     key_schedule  - 11 round keys of 16 bytes each (key_schedule[0,0,:] is the\n",
    "#                     master key\n",
    "#----------------------------------------------------------------------------\n",
    "# key_schedule = sca_training.inverse_key_expansion(last_round_key)"
   ]
  },
  {
   "cell_type": "code",
   "execution_count": 2,
   "metadata": {
    "tags": []
   },
   "outputs": [
    {
     "name": "stdout",
     "output_type": "stream",
     "text": [
      "Binary output: b'97935516ADA083B7A1F13BD9D89EBC11 0303050108030606060204000302050805050A0509020201010A05060306070401080607090609060603040506060505030908060B080506080308030205040505080608050707020505050A0305060406020403080405040A090B05020703060603030A'\n",
      "Ciphertext as numpy array: [151 147  85  22 173 160 131 183 161 241  59 217 216 158 188  17]\n",
      "Trace as numpy array: [ 3  3  5  1  8  3  6  6  6  2  4  0  3  2  5  8  5  5 10  5  9  2  2  1\n",
      "  1 10  5  6  3  6  7  4  1  8  6  7  9  6  9  6  6  3  4  5  6  6  5  5\n",
      "  3  9  8  6 11  8  5  6  8  3  8  3  2  5  4  5  5  8  6  8  5  7  7  2\n",
      "  5  5  5 10  3  5  6  4  6  2  4  3  8  4  5  4 10  9 11  5  2  7  3  6\n",
      "  6  3  3 10]\n"
     ]
    }
   ],
   "source": [
    "output, ctext, trace = binary_aes128_encrypt(\"010203040506070809000a0b0c0d0e1f\", verbose=True)"
   ]
  },
  {
   "cell_type": "markdown",
   "metadata": {},
   "source": [
    "### ATTACK CODE\n",
    "Here you need to implement your attack which gives you the last round key.\n",
    "\n",
    "Once the last round key is found - you need to compute the master key: this can be done with the function get_master_key()\n",
    "\n",
    "### Programming tips\n",
    "#### Numpy code\n",
    "* np.arange(256).astype(np.uint8)\n",
    "* np.bitwise_xor(m1, m2)\n",
    "* np.where()\n",
    "\n",
    "#### Code prepared for training\n",
    "* sca_training.invSbox[sbox_out]\n",
    "* sca_training.shift_rows(trace)\n",
    "\n",
    "#### Various cod\n",
    "* ''.join('{:02x}'.format(c) for c in int_array)"
   ]
  }
 ],
 "metadata": {
  "kernelspec": {
   "display_name": "Python 3 (ipykernel)",
   "language": "python",
   "name": "python3"
  },
  "language_info": {
   "codemirror_mode": {
    "name": "ipython",
    "version": 3
   },
   "file_extension": ".py",
   "mimetype": "text/x-python",
   "name": "python",
   "nbconvert_exporter": "python",
   "pygments_lexer": "ipython3",
   "version": "3.11.3"
  }
 },
 "nbformat": 4,
 "nbformat_minor": 4
}
