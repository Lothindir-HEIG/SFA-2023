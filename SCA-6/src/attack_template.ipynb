{
 "cells": [
  {
   "cell_type": "markdown",
   "metadata": {},
   "source": [
    "### Description:\n",
    "\n",
    "In this task you will work with *hardware* AES-128 running on ESP32. This engine is started by protocol:\n",
    "\n",
    "mbedtls_aes_init( &aes );\n",
    "\n",
    "mbedtls_aes_setkey_enc( &aes, (const unsigned char*) key, 128 );\n",
    "\n",
    "mbedtls_aes_crypt_ecb(&aes, MBEDTLS_AES_ENCRYPT, (const unsigned char*)input, output);\n",
    "\n",
    "mbedtls_aes_free( &aes );\n",
    "\n",
    "You have access to plaintexts, ciphertexts and associated traces.\n",
    "Oscilloscope snapshots (see below) show an entire AES execution, i.e., mbedtls_aes_crypt_ecb process. \n",
    "\n",
    "You will have only the part related to encryption process, i.e., a part shown from 8 us to 8.5 us on the second oscilloscope snapshot. \n",
    "\n",
    "The measurements were performed with LeCroy WaveRunner Zi625 and a differential probe\n",
    "\n",
    "### Tips:\n",
    "\n",
    "A 'trace' is a side-channel information measured between the VCC and the GND pins of the WROOM module (ESP32). \n",
    "\n",
    "Hardware IPs leak significantlly smaller amount of information than CPU. However, they are still leaking.\n",
    "\n",
    "In this example a trace is a 500 bytes array of int8 (the amplitude of the measured voltage). The trace containes entire AES-128 encryption process.\n",
    "\n",
    "This array contains various encryption information measured with noise.\n",
    "\n",
    "### Task:\n",
    "\n",
    "You need to find the master key.\n",
    "\n",
    "\n",
    "The master key is in the form of SCA{XXXXXXXXXXX}, where X is a ASCII printable symbol (you already know 5 key bytes)."
   ]
  },
  {
   "cell_type": "markdown",
   "metadata": {},
   "source": [
    "### AES-128 encryption measured at high sampling rate\n",
    "\n",
    "Green signal - a GPIO trigger used to synchronize all the traces\n",
    "\n",
    "Red signal   - VCC voltage variation during AES-128 encryption\n",
    "\n",
    "\n",
    "<img src=\"support/osc_snap_0.png\">\n",
    "\n",
    "<img src=\"support/osc_snap_1.png\">"
   ]
  },
  {
   "cell_type": "code",
   "execution_count": 1,
   "metadata": {},
   "outputs": [],
   "source": [
    "from ipywidgets import interact, interactive, fixed, interact_manual\n",
    "import ipywidgets as widgets\n",
    "import time\n",
    "import binascii\n",
    "import h5py\n",
    "import numpy as np\n",
    "import matplotlib.pyplot as plt\n",
    "import numpy.matlib\n",
    "\n",
    "import sca_training\n",
    "\n",
    "%matplotlib inline\n",
    "\n",
    "numtraces   = 1000000\n",
    "numsamples  = 500\n",
    "numfiles    = 50\n",
    "\n",
    "numtraces_per_file = 20000\n",
    "     \n",
    "#----------------------------------------------------------------------------\n",
    "# OUTPUTS:\n",
    "#     ptexts   - input plaintexts converted to numpy array of uint8\n",
    "#     ctexts   - resulted ciphertext converted to numpy array of uint8\n",
    "#     traces   - a trace associated with encryption process\n",
    "#----------------------------------------------------------------------------\n",
    "def ReadData():\n",
    "    global numtraces\n",
    "    global numsamples\n",
    "    global numfiles\n",
    "    global numtraces_per_file\n",
    "    \n",
    "    traces = np.zeros((numtraces, numsamples), dtype = np.int8)\n",
    "    ptexts = np.zeros((numtraces, 16), dtype = np.uint8)\n",
    "    ctexts = np.zeros((numtraces, 16), dtype = np.uint8)\n",
    "    \n",
    "    print('Reading data...')\n",
    "    for i_file in range(numfiles):\n",
    "        h5file = r'../data/aes_{}_'.format(i_file * numtraces_per_file) + r'.hdf5' \n",
    "        print('Reading {}...'.format(h5file))\n",
    "    \n",
    "        with h5py.File(h5file, 'r') as hdf5_file:\n",
    "            ptexts[(i_file*numtraces_per_file):((i_file + 1)*numtraces_per_file),:] = hdf5_file['ptexts'][:,:].astype('uint8')\n",
    "            ctexts[(i_file*numtraces_per_file):((i_file + 1)*numtraces_per_file),:] = hdf5_file['ctexts'][:,:].astype('uint8')\n",
    "            traces[(i_file*numtraces_per_file):((i_file + 1)*numtraces_per_file),:] = hdf5_file['traces'][:,:].astype('int8')\n",
    "    \n",
    "    \n",
    "    print('Ptexts size:', ptexts.shape)\n",
    "    print(ptexts)\n",
    "    print('Ctexts size:', ctexts.shape)\n",
    "    print(ctexts)\n",
    "    print('Traces size:', traces.shape)\n",
    "    print(traces)\n",
    "    print('Completed')\n",
    "    \n",
    "    return ptexts, ctexts, traces\n"
   ]
  },
  {
   "cell_type": "code",
   "execution_count": null,
   "metadata": {},
   "outputs": [],
   "source": [
    "ptexts, ctexts, traces = ReadData()"
   ]
  },
  {
   "cell_type": "markdown",
   "metadata": {},
   "source": [
    "### Task 0: Find the AES-128 master key"
   ]
  }
 ],
 "metadata": {
  "kernelspec": {
   "display_name": "Python 3 (ipykernel)",
   "language": "python",
   "name": "python3"
  },
  "language_info": {
   "codemirror_mode": {
    "name": "ipython",
    "version": 3
   },
   "file_extension": ".py",
   "mimetype": "text/x-python",
   "name": "python",
   "nbconvert_exporter": "python",
   "pygments_lexer": "ipython3",
   "version": "3.10.8"
  }
 },
 "nbformat": 4,
 "nbformat_minor": 4
}
