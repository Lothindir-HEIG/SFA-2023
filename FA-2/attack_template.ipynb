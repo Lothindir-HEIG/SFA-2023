{
 "cells": [
  {
   "cell_type": "markdown",
   "id": "3e16bec5-4124-4da6-80b7-633bde01d217",
   "metadata": {},
   "source": [
    "# Fault injection simulation example\n",
    "\n",
    "This example will output the result of a fault inserted at the pointed instruction below\n",
    "\n",
    "The program will output the value of `ebx` at the end of the function. \n",
    "\n",
    "\n",
    "Can you explain the kind of fault happening ? its effect ?\n",
    "\n",
    "```\n",
    "┌ 332: sym.toto ();\n",
    "│           ; var int64_t var_8h @ rbp-0x8\n",
    "│           0x000011f9      55             push rbp\n",
    "│           0x000011fa      4889e5         mov rbp, rsp\n",
    "│           0x000011fd      53             push rbx\n",
    "│           0x000011fe      4883ec08       sub rsp, 8\n",
    "│           0x00001202      bb00000000     mov ebx, 0\n",
    "│           0x00001211      83c301         add ebx, 1          <== GLITCH INSERTED HERE\n",
    "│           0x00001214      83c301         add ebx, 1\n",
    "│           0x00001217      83c301         add ebx, 1\n",
    "|           ...\n",
    "|           REPEATS 100 TIMES TOTAL\n",
    "|           ..\n",
    "│           0x00001334      83c301         add ebx, 1\n",
    "│           0x00001337      83c301         add ebx, 1\n",
    "│           0x0000133a      83c301         add ebx, 1\n",
    "│           0x0000133d      89d8           mov eax, ebx\n",
    "│           0x0000133f      488b5df8       mov rbx, qword [var_8h]\n",
    "│           0x00001343      c9             leave\n",
    "└           0x00001344      c3             ret\n",
    "```"
   ]
  },
  {
   "cell_type": "code",
   "execution_count": 1,
   "id": "4d3f558c-0391-4ae1-935b-0b05e8fdd115",
   "metadata": {
    "tags": []
   },
   "outputs": [],
   "source": [
    "import socket\n",
    "import time"
   ]
  },
  {
   "cell_type": "code",
   "execution_count": 2,
   "id": "c0fc5383-1cc7-437c-9b10-c3e1bf91d1e0",
   "metadata": {
    "tags": []
   },
   "outputs": [],
   "source": [
    "HOST = 'iict-mv330-sfa.einet.ad.eivd.ch'\n",
    "PORT = 5001"
   ]
  },
  {
   "cell_type": "code",
   "execution_count": 3,
   "id": "9263c53d-1ce5-476e-8bb5-c63672b28b0d",
   "metadata": {
    "tags": []
   },
   "outputs": [],
   "source": [
    "# Helper functions\n",
    "\n",
    "def recv_until(s, msg):\n",
    "    buf = b''\n",
    "    while 1:\n",
    "        buf += s.recv(1)\n",
    "        if msg in buf:\n",
    "            break\n",
    "    return buf\n",
    "\n",
    "def sample():\n",
    "    s = socket.socket(socket.AF_INET, socket.SOCK_STREAM)\n",
    "    s.connect((HOST, PORT))\n",
    "    data = recv_until(s, b'\\n')\n",
    "    return data"
   ]
  },
  {
   "cell_type": "code",
   "execution_count": 16,
   "id": "5ca95474-8832-4de2-9a7e-1ec4e62a2ade",
   "metadata": {
    "tags": []
   },
   "outputs": [
    {
     "data": {
      "text/plain": [
       "b'Result : 000000a4\\r\\n'"
      ]
     },
     "execution_count": 16,
     "metadata": {},
     "output_type": "execute_result"
    }
   ],
   "source": [
    "sample()"
   ]
  }
 ],
 "metadata": {
  "kernelspec": {
   "display_name": "Python 3 (ipykernel)",
   "language": "python",
   "name": "python3"
  },
  "language_info": {
   "codemirror_mode": {
    "name": "ipython",
    "version": 3
   },
   "file_extension": ".py",
   "mimetype": "text/x-python",
   "name": "python",
   "nbconvert_exporter": "python",
   "pygments_lexer": "ipython3",
   "version": "3.11.3"
  }
 },
 "nbformat": 4,
 "nbformat_minor": 5
}
