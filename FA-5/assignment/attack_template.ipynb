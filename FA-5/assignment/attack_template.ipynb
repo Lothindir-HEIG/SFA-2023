{
 "cells": [
  {
   "attachments": {},
   "cell_type": "markdown",
   "metadata": {},
   "source": [
    "### Description\n",
    "\n",
    "In this task you will work with fault injection before the last Sbox operation. \n",
    "\n",
    "This fault model is used in practice. A fault shall be injected during algorithm run, so, this fault can be considered as dynamic.\n",
    "\n",
    "Any fault injection method, i.e, a glitch, laser, EM, etc., can achieve this kind of effect.\n",
    "\n",
    "\n",
    "### Fault model\n",
    "\n",
    "This is 1-bit fault, i.e., a random bit before Sbox operation is swapped.\n",
    "\n",
    "s' = s ^ error_bit\n",
    "\n",
    "where s is a byte of the AES128 State just before the last Sbox\n",
    "error_bit = [1 2 4 8 16 32 64 128]\n",
    "\n",
    "### Task:\n",
    "\n",
    "Your task is to find a Master key (round key 0) embedded into ../aes128 binary. \n",
    "\n",
    "The master key is in the form of HEIG{XXXXXXXXX}, where X is a ASCII printable symbol.\n",
    "\n",
    "### Fault illustration\n",
    "\n",
    "<img src=\"support/fault.png\">"
   ]
  },
  {
   "cell_type": "code",
   "execution_count": 121,
   "metadata": {},
   "outputs": [],
   "source": [
    "import numpy as np\n",
    "import binascii\n",
    "import string\n",
    "import random\n",
    "import socket\n",
    "\n",
    "HOST = 'iict-mv330-sfa'\n",
    "PORT = 5002\n",
    "\n",
    "from tqdm import auto as tqdm\n",
    "import sca_training\n",
    "\n",
    "def binary_aes128_encrypt_fault(plaintext, fault_ind, verbose=False):\n",
    "    import subprocess\n",
    "    if all(c in string.hexdigits for c in plaintext) and len(plaintext) == 32:\n",
    "        with socket.socket(socket.AF_INET, socket.SOCK_STREAM) as s:\n",
    "            s.connect((HOST, PORT))\n",
    "            s.recv(1024)\n",
    "            s.sendall(plaintext.encode())\n",
    "            s.sendall(b'\\n')\n",
    "\n",
    "            output = s.recv(1024)\n",
    "    \n",
    "    c_ctext = binascii.unhexlify(output[10:42])\n",
    "    f_ctext = binascii.unhexlify(output[53:85])\n",
    "    xor =  int.from_bytes(c_ctext, byteorder = 'big') ^ int.from_bytes(f_ctext, byteorder = 'big')\n",
    "    \n",
    "    if (verbose):\n",
    "        print('Full output:', output.strip())\n",
    "        print('Correct ciphertext: {}'.format(c_ctext.hex()) )\n",
    "        print('Faulted ciphertext: {}'.format(f_ctext.hex()) )\n",
    "        print('Difference (XOR):   {:032X}'.format(xor) )\n",
    "    \n",
    "    return output, c_ctext, f_ctext"
   ]
  },
  {
   "cell_type": "code",
   "execution_count": 106,
   "metadata": {},
   "outputs": [
    {
     "name": "stdout",
     "output_type": "stream",
     "text": [
      "Full output: b'[correct] C0515E087F4B134DDC3CFB73C1DEF395\\n[faulted] C0515E087F51134DDC3CFB73C1DEF395'\n",
      "Correct ciphertext: c0515e087f4b134ddc3cfb73c1def395\n",
      "Faulted ciphertext: c0515e087f51134ddc3cfb73c1def395\n",
      "Difference (XOR):   00000000001A00000000000000000000\n"
     ]
    }
   ],
   "source": [
    "ptext = \"000102030405060708090a0b0c0d0e0F\"\n",
    "output, c_ctext, f_ctext = binary_aes128_encrypt_fault(ptext, 15, verbose=True)"
   ]
  },
  {
   "cell_type": "code",
   "execution_count": 130,
   "metadata": {},
   "outputs": [
    {
     "data": {
      "application/vnd.jupyter.widget-view+json": {
       "model_id": "0c99acd5caed4771a1c7b73005f5ccd8",
       "version_major": 2,
       "version_minor": 0
      },
      "text/plain": [
       "  0%|          | 0/100 [00:00<?, ?it/s]"
      ]
     },
     "metadata": {},
     "output_type": "display_data"
    },
    {
     "name": "stdout",
     "output_type": "stream",
     "text": [
      "[  2  40 143 198 223 243 161  86 217  70 189 249 162 245 222 236]\n"
     ]
    }
   ],
   "source": [
    "from collections import Counter\n",
    "e = [0x1, 0x2, 0x4, 0x8, 0x10, 0x20, 0x40, 0x80] # 1 byte error\n",
    "\n",
    "SAMPLES = 100\n",
    "\n",
    "def attack():\n",
    "  key_cand = np.zeros((16, 256)).astype(int)\n",
    "  for s in tqdm.trange(SAMPLES):\n",
    "    plain = ''.join(random.choice(string.hexdigits) for i in range(32))\n",
    "    _, ctext, ftext = binary_aes128_encrypt_fault(ptext, 15)\n",
    "    for j in range(256):\n",
    "      for i in range(16):\n",
    "        e_cand = sca_training.invSbox[ctext[i] ^ j] ^ sca_training.invSbox[ftext[i] ^ j]\n",
    "        if e_cand in e:\n",
    "          key_cand[i][j] += 1\n",
    "          break\n",
    "  return key_cand\n",
    "key = attack()\n",
    "round_key = np.zeros(16).astype(int)\n",
    "for i in range(16):\n",
    "  # print(np.argmax(key[i]))\n",
    "  round_key[i] = np.argmax(key[i])\n",
    "# print(key)\n",
    "print(round_key)"
   ]
  },
  {
   "cell_type": "code",
   "execution_count": 131,
   "metadata": {},
   "outputs": [
    {
     "name": "stdout",
     "output_type": "stream",
     "text": [
      "(1, 11, 16)\n",
      "Master key in hex: [ 72  69  73  71 123  49  48 114 111 117 110 100  98 105 116 125]\n",
      "Master key in ASCII: b'HEIG{10roundbit}'\n"
     ]
    }
   ],
   "source": [
    "#Get master key using the provided binary\n",
    "key_schedule = sca_training.inverse_key_expansion(round_key)\n",
    "print(key_schedule.shape)\n",
    "\n",
    "print('Master key in hex:', key_schedule[0,0,:])\n",
    "\n",
    "print('Master key in ASCII:', binascii.unhexlify(''.join('{:02x}'.format(c) for c in key_schedule[0,0,:])))"
   ]
  }
 ],
 "metadata": {
  "kernelspec": {
   "display_name": "Python 3 (ipykernel)",
   "language": "python",
   "name": "python3"
  },
  "language_info": {
   "codemirror_mode": {
    "name": "ipython",
    "version": 3
   },
   "file_extension": ".py",
   "mimetype": "text/x-python",
   "name": "python",
   "nbconvert_exporter": "python",
   "pygments_lexer": "ipython3",
   "version": "3.11.3"
  }
 },
 "nbformat": 4,
 "nbformat_minor": 4
}
