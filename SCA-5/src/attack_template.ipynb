{
 "cells": [
  {
   "cell_type": "markdown",
   "metadata": {},
   "source": [
    "### Description:\n",
    "\n",
    "In this task you will analyse software T-table AES-128 implementation running on ESP32 (see the code_sample.txt in the support folder).  \n",
    "\n",
    "The software implementation does not contain any protection against side-channel attacks.\n",
    "\n",
    "During one AES-128 execution a plaintext, a ciphertext and a real power trace of 5,000 samples were recorded.\n",
    "\n",
    "10,000 encryptions were performed. Associated data (a plaintext, a ciphertext and a trace) was stored in HDF5 file.\n",
    "\n",
    "One oscilloscope snapshot shows an entire AES execution, however, only the part related to encryption process, i.e., a part shown from 50 us to 60 us on the oscilloscope snapshot, is available for the analysis. \n",
    "\n",
    "The measurements were performed with LeCroy WaveRunner Zi625 and a differential probe.\n",
    "\n",
    "### Tips:\n",
    "\n",
    "A 'trace' is a side-channel information measured between the Vdd and the GND pins of the WROOM module (ESP32). \n",
    "\n",
    "Usually, CPU is vulnerable either to Hamming weight or to Hamming distance data models. There might be more than one instruction leaking secret data.\n",
    "\n",
    "In this example a trace is a 5,000 bytes array of int8 (the amplitude of the measured voltage).\n",
    "\n",
    "This array contains various encryption information measured with noise.\n",
    "\n",
    "### Task:\n",
    "\n",
    "You might perform several subtasks, but the main objective is to get the Master Key.\n",
    "\n",
    "The master key is in the form of SCA{XXXXXXXXXXX}, where X is an ASCII printable symbol."
   ]
  },
  {
   "cell_type": "markdown",
   "metadata": {},
   "source": [
    "### AES-128 encryption measured at high sampling rate\n",
    "\n",
    "Green signal - a GPIO trigger used to synchronize all the traces\n",
    "\n",
    "Red signal   - VCC voltage variation during AES-128 encryption\n",
    "\n",
    "<img src=\"support/osc_snap.png\">"
   ]
  },
  {
   "cell_type": "code",
   "execution_count": 1,
   "metadata": {},
   "outputs": [
    {
     "name": "stdout",
     "output_type": "stream",
     "text": [
      "Reading data...\n",
      "Ptexts size: (10000, 16)\n",
      "Ctexts size: (10000, 16)\n",
      "Traces size: (10000, 5000)\n",
      "Completed\n"
     ]
    }
   ],
   "source": [
    "from ipywidgets import interact, interactive, fixed, interact_manual\n",
    "import ipywidgets as widgets\n",
    "import string\n",
    "import binascii\n",
    "import h5py\n",
    "import numpy as np\n",
    "import matplotlib.pyplot as plt\n",
    "import numpy.matlib\n",
    "import subprocess\n",
    "import sca_training\n",
    "\n",
    "%matplotlib inline\n",
    "\n",
    "datapath        = r'../data' \n",
    "\n",
    "hdffilename_data    = datapath + r'/attack_data.hdf5'\n",
    "hdffilename_traces  = datapath + r'/attack_traces.hdf5'\n",
    "\n",
    "hdf5_dataset          = 'Traces'\n",
    "\n",
    "numtraces   = 10000\n",
    "numsamples  = 5000\n",
    "\n",
    "#----------------------------------------------------------------------------\n",
    "# OUTPUTS:\n",
    "#     ptexts   - input plaintexts converted to numpy array of uint8\n",
    "#     ctexts   - resulted ciphertext converted to numpy array of uint8\n",
    "#     traces   - a trace associated with encryption process\n",
    "#----------------------------------------------------------------------------\n",
    "\n",
    "def ReadData():\n",
    "    print('Reading data...')\n",
    "    with h5py.File(hdffilename_data, 'r') as hdf5_data:      \n",
    "        ptexts = hdf5_data['Ptexts'][:,:].astype('uint8')\n",
    "        ctexts = hdf5_data['Ctexts'][:,:].astype('uint8')\n",
    "\n",
    "    with h5py.File(hdffilename_traces, 'r') as hdf5_traces:      \n",
    "        traces = hdf5_traces[hdf5_dataset][:,:].astype('int8')\n",
    "\n",
    "    print('Ptexts size:', ptexts.shape)\n",
    "    print('Ctexts size:', ctexts.shape)\n",
    "    print('Traces size:', traces.shape)\n",
    "    print('Completed')\n",
    "    \n",
    "    return ptexts, ctexts, traces\n",
    "\n",
    "ptexts, ctexts, traces = ReadData()"
   ]
  },
  {
   "cell_type": "markdown",
   "metadata": {},
   "source": [
    "### Task 0\n",
    "Plot the mean for the first 1000 traces.\n",
    "\n",
    "Do you see patterns?\n",
    "\n",
    "Can you tell more about AES-128 operations?"
   ]
  },
  {
   "cell_type": "markdown",
   "metadata": {},
   "source": [
    "### Task 1\n",
    "Compute correlation with plaintexts and ciphertexts. There are few associated questions:\n",
    "    1. Do you consider correlation to be strong?\n",
    "    2. When is the correlation time?\n",
    "    3. Does the same model correlate only once?\n",
    "    4. Does different models correlate differently?\n",
    "    5. How can this correlation help us to find the key?"
   ]
  },
  {
   "cell_type": "markdown",
   "metadata": {},
   "source": [
    "### Task 2\n",
    "\n",
    "Create a model that involve any of the round keys. Use this model to find the round key. Prove that the key is correct."
   ]
  },
  {
   "cell_type": "code",
   "execution_count": null,
   "metadata": {},
   "outputs": [],
   "source": []
  }
 ],
 "metadata": {
  "kernelspec": {
   "display_name": "Python 3 (ipykernel)",
   "language": "python",
   "name": "python3"
  },
  "language_info": {
   "codemirror_mode": {
    "name": "ipython",
    "version": 3
   },
   "file_extension": ".py",
   "mimetype": "text/x-python",
   "name": "python",
   "nbconvert_exporter": "python",
   "pygments_lexer": "ipython3",
   "version": "3.9.15"
  }
 },
 "nbformat": 4,
 "nbformat_minor": 4
}
