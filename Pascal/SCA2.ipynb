{
 "cells": [
  {
   "cell_type": "markdown",
   "metadata": {},
   "source": [
    "### Description:\n",
    "\n",
    "AES-128 algorithm with a hardcoded key is available as service.\n",
    "\n",
    "To perform encryption, the binary requires 16-bytes plaintext (in hex):\n",
    "\n",
    "```\n",
    "    ../wbcenc --ptext=\"010203040506070809000a0b0c0d0e1f\"\n",
    "```    \n",
    "The result is printed to console:\n",
    "```\n",
    "    5FB9620C3E645F5487FCC688C07794C2 05070305060605030204010405030503\n",
    "```    \n",
    "where:\n",
    "```\n",
    "    5FB9620C3E645F5487FCC688C07794C2 is a ciphertext\n",
    "    \n",
    "    05070305060605030204010405030503 is a trace (information left by a programmer)\n",
    "```\n",
    "### Tips:\n",
    "\n",
    "A 'trace' is a side-channel information left by a programmer to debug the implementation.\n",
    "\n",
    "In this example a trace consists of Hamming weights for a 10th round input state bytes of the AES-128 algorithm, i.e., a State before the Sbox operation in the last round.\n",
    "\n",
    "### Task:\n",
    "\n",
    "Your task is to find the Master key (round key 0) embedded into the binary. \n",
    "\n",
    "The master key is in the form of HEIG{XXXXXXXXXX}, where X is an ASCII printable symbol."
   ]
  },
  {
   "cell_type": "markdown",
   "metadata": {},
   "source": [
    "### Leakage illustration\n",
    "\n",
    "<img src=\"support/Slide.png\">"
   ]
  },
  {
   "cell_type": "code",
   "execution_count": 6,
   "metadata": {
    "tags": []
   },
   "outputs": [
    {
     "name": "stdout",
     "output_type": "stream",
     "text": [
      "[{79}, {204}, {144}, {62}, {229}, {78}, {218}, {104}, {131}, {42}, {108}, {210}, {68}, {35}, {9}, {30}]\n",
      "[ 79 204 144  62 229  78 218 104 131  42 108 210  68  35   9  30]\n",
      "[ 72  69  73  71 123  72  97 109 109 105 110 103  72  87  50 125]\n",
      "HEIG{HammingHW2}\n"
     ]
    }
   ],
   "source": [
    "import copy\n",
    "\n",
    "import numpy as np\n",
    "\n",
    "import sca_training\n",
    "\n",
    "init = [\"5FB9620C3E645F5487FCC688C07794C2\", \"05070305060605030204010405030503\"]\n",
    "init = [sca_training.hex_int(init) for init in init]\n",
    "init[1] = sca_training.shift_rows(init[1])\n",
    "\n",
    "cipher = [\"746B3D0E1123FE61B3D9C910F24DA3C8\",\"E9A53E0282388C091BE3A1FE2C179DEF\",\"A3084819FF63B722AA644E05A749B4B1\",\"5F6F1B977D84EBF044F52BD435196CBB\",\"BA23D8046B55AD685CB0FF94854D427F\",\"9F122BCAFB9048EEDC86A414E631AF90\",\"A48BCFAD3CFFAB4C9A72CA0911DCCBCA\",\"BE10478CB0A265CCCE7A5B640A33158B\",\"0436DAAC1D36A67063F6AEC5DBCDC0D5\",\"1B892D0D850C6DBE3B117DB1EA1D83A8\",\"4B5CCBB1B73108C95F914931731D281B\",\"EAE906F4224A8020D2FABC54C7197F4F\",\"31A80C049F2540268D76A7498360474C\",\"72BE5499531FD01927AD8D4DE5537F32\",\"94935DFE0F612AD22C85D42E0F01E1B7\",]\n",
    "cipher = [sca_training.hex_int(cipher) for cipher in cipher]\n",
    "trace = [\"03030301050303030105020305060401\",\"04020104020406020404060407020505\",\"03030304030205030306040404050505\",\"05030304040405040301050303070406\",\"06030203050304030702040406050103\",\"02040405050404050204070503040405\",\"04060404050303060404020306050302\",\"04050404060403050403030505040505\",\"04040303040202040203040405040104\",\"07040503020306000406050506030104\",\"02040305020406040405050404070705\",\"03030204030304050302040302020301\",\"03030405060305040602030203050503\",\"04030303050404050403020205050403\",\"06030402060203040404010604040405\",]\n",
    "trace = [sca_training.shift_rows(sca_training.hex_int(trace)) for trace in trace]\n",
    "assert(len(cipher) == len(trace))\n",
    "candidates = [set() for _ in range(16)]\n",
    "\n",
    "# Init candidates\n",
    "for i in range(16): # Pour chaque position de la MK\n",
    "    for candidate in range(256): # Pour chaque valeur possible du byte\n",
    "        pos_trace = init[1][i]\n",
    "        pos_cipher = init[0][i]\n",
    "        mk = np.bitwise_xor(candidate, pos_cipher)\n",
    "        mk = sca_training.invSbox[mk]\n",
    "        if sca_training.HW_uint8[mk] == pos_trace:\n",
    "            candidates[i].add(candidate)\n",
    "\n",
    "# Filter candidates\n",
    "for i in range(16):\n",
    "    copy_candidates = copy.deepcopy(candidates[i])\n",
    "    for j in range(len(cipher)):\n",
    "        if len(candidates[i]) == 1:\n",
    "            continue\n",
    "        for candidate in copy_candidates:\n",
    "            if len(candidates[i]) == 1:\n",
    "                break\n",
    "            pos_trace = trace[j][i]\n",
    "            pos_cipher = cipher[j][i]\n",
    "            mk = np.bitwise_xor(candidate, pos_cipher)\n",
    "            mk = sca_training.invSbox[mk]\n",
    "            if sca_training.HW_uint8[mk] != pos_trace and candidate in candidates[i]:\n",
    "                candidates[i].remove(candidate)\n",
    "\n",
    "print(candidates)\n",
    "k10 = np.array([c.pop() for c in candidates])\n",
    "print(k10)\n",
    "mk = sca_training.k10_to_mk(k10)\n",
    "print(mk)\n",
    "print(sca_training.mk_to_ascii(mk))"
   ]
  },
  {
   "cell_type": "markdown",
   "metadata": {},
   "source": [
    "### ATTACK CODE\n",
    "Here you need to implement your attack which gives you the last round key.\n",
    "\n",
    "Once the last round key is found - you need to compute the master key: this can be done with the function get_master_key()\n",
    "\n",
    "### Programming tips\n",
    "#### Numpy code\n",
    "* np.arange(256).astype(np.uint8)\n",
    "* np.bitwise_xor(m1, m2)\n",
    "* np.where()\n",
    "\n",
    "#### Code prepared for training\n",
    "* sca_training.invSbox[sbox_out]\n",
    "* sca_training.shift_rows(trace)\n",
    "\n",
    "#### Various cod\n",
    "* ''.join('{:02x}'.format(c) for c in int_array)"
   ]
  }
 ],
 "metadata": {
  "kernelspec": {
   "display_name": "Python 3 (ipykernel)",
   "language": "python",
   "name": "python3"
  },
  "language_info": {
   "codemirror_mode": {
    "name": "ipython",
    "version": 3
   },
   "file_extension": ".py",
   "mimetype": "text/x-python",
   "name": "python",
   "nbconvert_exporter": "python",
   "pygments_lexer": "ipython3",
   "version": "3.10.9"
  }
 },
 "nbformat": 4,
 "nbformat_minor": 4
}
