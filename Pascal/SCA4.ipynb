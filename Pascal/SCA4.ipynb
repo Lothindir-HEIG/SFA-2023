{
 "cells": [
  {
   "cell_type": "markdown",
   "metadata": {},
   "source": [
    "### Description:\n",
    "\n",
    "AES-128 algorithm with a hardcoded key is available as service.\n",
    "\n",
    "To perform encryption, the binary requires 16-bytes plaintext (in hex):\n",
    "\n",
    "```\n",
    "    ../wbcenc --ptext=\"010203040506070809000a0b0c0d0e1f\"\n",
    "```    \n",
    "The result is printed to console:\n",
    "```\n",
    "    97935516ADA083B7A1F13BD9D89EBC11 0803050A0502040107030600030504...30506060B0A060205\n",
    "```    \n",
    "where:\n",
    "```\n",
    "    97935516ADA083B7A1F13BD9D89EBC11 is a ciphertext\n",
    "    \n",
    "    0803050A0502040107030600030504...30506060B0A060205 is a trace (information left by a programmer)\n",
    "```\n",
    "### Tips:\n",
    "\n",
    "A 'trace' is a side-channel information left by a programmer to debug the implementation.\n",
    "\n",
    "In this example a trace consists of a random data plus at certain position a trace contains Hamming weights of bytes for a 10th round input state of the AES-128 algorithm, i.e., a State before the Sbox operation in the last round. Those Hamming weights contain also some noise (they are not perfectly measured).\n",
    "\n",
    "### Task:\n",
    "\n",
    "Your task is to find the Master key (round key 0) embedded into the binary. \n",
    "\n",
    "The master key is in the form of HEIG{XXXXXXXXXX}, where X is an ASCII printable symbol."
   ]
  },
  {
   "cell_type": "markdown",
   "metadata": {},
   "source": [
    "### Leakage illustration\n",
    "\n",
    "<img src=\"support/Slide.png\">"
   ]
  },
  {
   "cell_type": "code",
   "execution_count": 1,
   "metadata": {
    "tags": []
   },
   "outputs": [
    {
     "name": "stdout",
     "output_type": "stream",
     "text": [
      "(16, 200)\n",
      "(100, 200)\n"
     ]
    }
   ],
   "source": [
    "import numpy as np\n",
    "import sca_training\n",
    "import matplotlib.pyplot as plt\n",
    "\n",
    "def hex_int(hex):\n",
    "    return np.array(list(bytearray.fromhex(hex)))\n",
    "\n",
    "ciphers = np.load('ciphers.npy')\n",
    "hws = np.load('traces.npy')\n",
    "\n",
    "print(ciphers.shape)\n",
    "print(hws.shape)"
   ]
  },
  {
   "cell_type": "code",
   "execution_count": 9,
   "outputs": [
    {
     "name": "stdout",
     "output_type": "stream",
     "text": [
      "0\n",
      "0.20592377876297985\n",
      "0.2129039738983797\n",
      "0.21655436747472134\n",
      "0.23205889122752296\n",
      "0.27000785260555177\n",
      "0.2790407026035343\n",
      "0.7476736796407021\n",
      "1\n",
      "0.17169765343204857\n",
      "0.17601134090801374\n",
      "0.21308835173030782\n",
      "0.22408187356854603\n",
      "0.22494165012759665\n",
      "0.23180572852540665\n",
      "0.2581710432764512\n",
      "0.29090724673480983\n",
      "0.8090579879649106\n",
      "2\n",
      "0.15264105129430416\n",
      "0.16318827718844248\n",
      "0.16474280430393481\n",
      "0.17034731154964045\n",
      "0.20411407090685138\n",
      "0.22437704531506425\n",
      "0.23459404571321296\n",
      "0.24365107749206633\n",
      "0.2589292307862379\n",
      "0.7686944654654901\n",
      "3\n",
      "0.18154354606854137\n",
      "0.20604398616780412\n",
      "0.24807502229329043\n",
      "0.2697571547263594\n",
      "0.27933685533513947\n",
      "0.7958678793348697\n",
      "4\n",
      "0.2513607014482879\n",
      "0.2748270572684384\n",
      "0.3061161753290586\n",
      "0.718215455013535\n",
      "5\n",
      "0.1963043069389505\n",
      "0.20116758531581044\n",
      "0.2168741142625253\n",
      "0.23518294238486925\n",
      "0.25252825234729526\n",
      "0.2853698176086739\n",
      "0.2884144755414833\n",
      "0.7436394197961764\n",
      "6\n",
      "0.22589928665547396\n",
      "0.23240872378901098\n",
      "0.2542018604689676\n",
      "0.2997290500255797\n",
      "0.7680646507352259\n",
      "7\n",
      "0.20334631199868833\n",
      "0.22059438308295165\n",
      "0.23604817247077053\n",
      "0.2427637132426028\n",
      "0.2572930424224557\n",
      "0.29512449462797846\n",
      "0.7521325961344141\n",
      "8\n",
      "0.18708738152300944\n",
      "0.2593689666128329\n",
      "0.2628913710949941\n",
      "0.26588788222244597\n",
      "0.2858325108758869\n",
      "0.8155039989930386\n",
      "9\n",
      "0.2503163434530269\n",
      "0.2621463282152561\n",
      "0.26780389824886625\n",
      "0.27059501349054116\n",
      "0.28299133691419276\n",
      "0.7884853988736862\n",
      "10\n",
      "0.26318014981437826\n",
      "0.2776766323157439\n",
      "0.8063335836961935\n",
      "11\n",
      "0.15963415632468908\n",
      "0.17324194934868492\n",
      "0.19544143556810484\n",
      "0.2347551162260631\n",
      "0.27511296630400434\n",
      "0.7810506928419949\n",
      "12\n",
      "0.16821013310420346\n",
      "0.24242296493846074\n",
      "0.2433821885463581\n",
      "0.24552071828733388\n",
      "0.28444734307998926\n",
      "0.3225591312248184\n",
      "0.7710258569197403\n",
      "13\n",
      "0.20695315137762088\n",
      "0.2207107633208778\n",
      "0.23107687238192196\n",
      "0.24545573549971503\n",
      "0.26209871192815126\n",
      "0.30436943177495135\n",
      "0.7788793865182492\n",
      "14\n",
      "0.2161392173369615\n",
      "0.29153696281533853\n",
      "0.8055500338338875\n",
      "15\n",
      "0.2110157055335796\n",
      "0.21920371675746106\n",
      "0.2767937428113338\n",
      "0.2893148617650944\n",
      "0.7840161756051459\n"
     ]
    }
   ],
   "source": [
    "k10 = [0]*16\n",
    "threshold_pcc = 0.7\n",
    "\n",
    "def matrix_corrcoef(matrix, vector):\n",
    "    return np.array([abs(np.corrcoef(vector, row)[0][1]) for row in matrix])\n",
    "\n",
    "for i in range(0,16):\n",
    "    print(i)\n",
    "    pcc = 0\n",
    "    k_max = 0\n",
    "    for k in range(256):\n",
    "        cand = sca_training.HW_uint8[sca_training.invSbox[np.bitwise_xor(ciphers[i], k)]]\n",
    "        corr = matrix_corrcoef(hws, cand)\n",
    "        # plt.plot(corr)\n",
    "        # break\n",
    "        corr = max(corr)\n",
    "        if corr > pcc:\n",
    "            pcc = corr\n",
    "            k_max = k\n",
    "            print(pcc)\n",
    "            if pcc > threshold_pcc:\n",
    "                break\n",
    "    # break\n",
    "    k10[i] = k_max"
   ],
   "metadata": {
    "collapsed": false
   }
  },
  {
   "cell_type": "code",
   "execution_count": 8,
   "outputs": [
    {
     "name": "stdout",
     "output_type": "stream",
     "text": [
      "[34, 67, 111, 160, 41, 208, 225, 54, 236, 173, 94, 30, 128, 139, 203, 151]\n"
     ]
    },
    {
     "data": {
      "text/plain": "'HEIG{Iamhere-54}'"
     },
     "execution_count": 8,
     "metadata": {},
     "output_type": "execute_result"
    }
   ],
   "source": [
    "print(k10)\n",
    "mk = sca_training.inverse_key_expansion(np.array(k10))[0][0]\n",
    "flag = ''.join(chr(c) for c in mk)\n",
    "flag"
   ],
   "metadata": {
    "collapsed": false
   }
  },
  {
   "cell_type": "markdown",
   "metadata": {},
   "source": [
    "### ATTACK CODE\n",
    "Here you need to implement your attack which gives you the last round key.\n",
    "\n",
    "Once the last round key is found - you need to compute the master key: this can be done with the function get_master_key()\n",
    "\n",
    "### Programming tips\n",
    "#### Numpy code\n",
    "* np.arange(256).astype(np.uint8)\n",
    "* np.bitwise_xor(m1, m2)\n",
    "* np.where()\n",
    "\n",
    "#### Code prepared for training\n",
    "* sca_training.invSbox[sbox_out]\n",
    "* sca_training.shift_rows(trace)\n",
    "\n",
    "#### Various cod\n",
    "* ''.join('{:02x}'.format(c) for c in int_array)"
   ]
  },
  {
   "cell_type": "code",
   "execution_count": null,
   "outputs": [],
   "source": [
    "import numpy as np\n",
    "import sca_training\n",
    "\n",
    "def hex_int(hex):\n",
    "    return np.array(list(bytearray.fromhex(hex)))"
   ],
   "metadata": {
    "collapsed": false
   }
  },
  {
   "cell_type": "code",
   "execution_count": 13,
   "outputs": [
    {
     "name": "stdout",
     "output_type": "stream",
     "text": [
      "[[1], [], [], [], [], [], [], [], [], [], [], [], [], [], [], []]\n"
     ]
    }
   ],
   "source": [
    "test = [[] for _ in range(16)]\n",
    "test[0].append(1)\n",
    "print(test)"
   ],
   "metadata": {
    "collapsed": false
   }
  }
 ],
 "metadata": {
  "kernelspec": {
   "display_name": "Python 3 (ipykernel)",
   "language": "python",
   "name": "python3"
  },
  "language_info": {
   "codemirror_mode": {
    "name": "ipython",
    "version": 3
   },
   "file_extension": ".py",
   "mimetype": "text/x-python",
   "name": "python",
   "nbconvert_exporter": "python",
   "pygments_lexer": "ipython3",
   "version": "3.10.9"
  }
 },
 "nbformat": 4,
 "nbformat_minor": 4
}
