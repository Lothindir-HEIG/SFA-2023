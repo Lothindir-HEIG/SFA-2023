{
 "cells": [
  {
   "cell_type": "markdown",
   "metadata": {},
   "source": [
    "### Description\n",
    "\n",
    "In this task you will work with fault injection before the last Sbox operation. \n",
    "\n",
    "This fault model is used in practice. A fault shall be injected during algorithm run, so, this fault can be considered as dynamic.\n",
    "\n",
    "Any fault injection method, i.e, a glitch, laser, EM, etc., can achieve this kind of effect.\n",
    "\n",
    "\n",
    "### Fault model\n",
    "\n",
    "This is a fault with an unknown distribution.\n",
    "\n",
    "s' = s ^ error\n",
    "\n",
    "where s is a byte of the AES128 State just before the last Sbox\n",
    "error is unknown\n",
    "\n",
    "### Task:\n",
    "\n",
    "Your task is to find a Master key (round key 0) embedded into ../aes128 binary. \n",
    "\n",
    "The master key is in the form of HEIG{XXXXXXXXX}, where X is a ASCII printable symbol.\n",
    "\n",
    "### Fault illustration\n",
    "\n",
    "<img src=\"support/fault.png\">"
   ]
  },
  {
   "cell_type": "code",
   "execution_count": null,
   "metadata": {},
   "outputs": [],
   "source": [
    "import numpy as np\n",
    "import binascii\n",
    "import string\n",
    "import random\n",
    "import socket\n",
    "\n",
    "HOST = 'iict-mv330-sfa'\n",
    "PORT = 5003\n",
    "\n",
    "import tqdm\n",
    "import sca_training\n",
    "\n",
    "def binary_aes128_encrypt_fault(plaintext, fault_ind, verbose=False):\n",
    "    import subprocess\n",
    "    if all(c in string.hexdigits for c in plaintext) and len(plaintext) == 32:\n",
    "        with socket.socket(socket.AF_INET, socket.SOCK_STREAM) as s:\n",
    "            s.connect((HOST, PORT))\n",
    "            s.recv(1024)\n",
    "            s.sendall(plaintext.encode())\n",
    "            s.sendall(b'\\n')\n",
    "\n",
    "            output = s.recv(1024)\n",
    "    \n",
    "    c_ctext = binascii.unhexlify(output[10:42])\n",
    "    f_ctext = binascii.unhexlify(output[53:85])\n",
    "    xor =  int.from_bytes(c_ctext, byteorder = 'big') ^ int.from_bytes(f_ctext, byteorder = 'big')\n",
    "    \n",
    "    if (verbose):\n",
    "        print('Full output:', output.strip())\n",
    "        print('Correct ciphertext: {}'.format(c_ctext.hex()) )\n",
    "        print('Faulted ciphertext: {}'.format(f_ctext.hex()) )\n",
    "        print('Difference (XOR):   {:032X}'.format(xor) )\n",
    "    \n",
    "    return output, c_ctext, f_ctext"
   ]
  },
  {
   "cell_type": "code",
   "execution_count": null,
   "metadata": {},
   "outputs": [],
   "source": [
    "ptext = \"000102030405060708090a0b0c0d0e0F\"\n",
    "output, c_ctext, f_ctext = binary_aes128_encrypt_fault(ptext, 15, verbose=True)"
   ]
  },
  {
   "cell_type": "code",
   "execution_count": null,
   "metadata": {},
   "outputs": [],
   "source": [
    "#Get master key using the provided binary\n",
    "key_schedule = sca_training.inverse_key_expansion(round_key)\n",
    "print(key_schedule.shape)\n",
    "\n",
    "print('Master key in hex:', key_schedule[0,0,:])\n",
    "\n",
    "print('Master key in ASCII:', binascii.unhexlify(''.join('{:02x}'.format(c) for c in key_schedule[0,0,:])))"
   ]
  }
 ],
 "metadata": {
  "kernelspec": {
   "display_name": "Python 3 (ipykernel)",
   "language": "python",
   "name": "python3"
  },
  "language_info": {
   "codemirror_mode": {
    "name": "ipython",
    "version": 3
   },
   "file_extension": ".py",
   "mimetype": "text/x-python",
   "name": "python",
   "nbconvert_exporter": "python",
   "pygments_lexer": "ipython3",
   "version": "3.11.3"
  }
 },
 "nbformat": 4,
 "nbformat_minor": 4
}
