{
 "cells": [
  {
   "cell_type": "markdown",
   "metadata": {},
   "source": [
    "### Description:\n",
    "\n",
    "In this task you will work with a binary (located at ../bin) that implements AES-128 algorithm with a hardcoded key.\n",
    "\n",
    "To run the binary you need to provide 16-bytes plaintext in hex, as following:\n",
    "```\n",
    "    ../aesenc --ptext=\"010203040506070809000a0b0c0d0e1f\"\n",
    "```    \n",
    "The result of the binary is printed to console:\n",
    "```\n",
    "    2DD52BC59D4196FE961054A06ECE1260 0404050604030403050506050304040407\n",
    "```    \n",
    "where:\n",
    "```\n",
    "    2DD52BC59D4196FE961054A06ECE1260 is a ciphertext\n",
    "    \n",
    "    0404050604030403050506050304040407 is a trace\n",
    "```\n",
    "### Tips:\n",
    "\n",
    "A 'trace' is a side-channel information left by a programmer to debug the implementation.\n",
    "\n",
    "In this example a trace is a 17 bytes long array. The first byte of this array is a Hamming weight of the mask. The following 16 bytes are Hamming weights of the masked State bytes at the beginning of the 10th round.\n",
    "\n",
    "### Task:\n",
    "\n",
    "Your task is to find a Master key (round key 0) embedded into the binary. \n",
    "\n",
    "The master key is in the form of HEIG{XXXXXXXXXX}, where X is a ASCII printable symbol."
   ]
  },
  {
   "cell_type": "code",
   "execution_count": 3,
   "metadata": {
    "tags": []
   },
   "outputs": [],
   "source": [
    "import numpy as np\n",
    "import binascii\n",
    "import random\n",
    "import numpy.matlib\n",
    "import matplotlib.pyplot as plt\n",
    "import string\n",
    "import re\n",
    "import tqdm\n",
    "\n",
    "import sca_training\n",
    "import re\n",
    "import socket\n",
    "\n",
    "HOST = 'iict-mv330-sfa'\n",
    "PORT = 4004\n",
    "#----------------------------------------------------------------------------\n",
    "# This function calls tested binary ../aesenc either with a user-defined \n",
    "# plaintext (if plaintext satisfies all the requirements) or with a \n",
    "# predefined plaintext (the same as in the header above)\n",
    "#\n",
    "# INPUTS:\n",
    "#     plaintext - a string of 32 symbols representing 16 hex bytes of ciphertext\n",
    "#     verbose   - a flag to print values in the function call or not\n",
    "# OUTPUTS:\n",
    "#     output  - a raw binary output\n",
    "#     ctext   - resulted ciphertext converted to numpy array of uint8\n",
    "#     trace   - a trace associated with encryption process\n",
    "#----------------------------------------------------------------------------\n",
    "def binary_aes128_encrypt(plaintext, verbose=False):\n",
    "    import subprocess\n",
    "    pattern = '[0-9A-F]{32,34}'\n",
    "    \n",
    "    #Check the correctness of the plaintext\n",
    "    if all(c in string.hexdigits for c in plaintext) and len(plaintext) == 32:\n",
    "        with socket.socket(socket.AF_INET, socket.SOCK_STREAM) as s:\n",
    "            s.connect((HOST, PORT))\n",
    "            s.recv(1024)\n",
    "            s.sendall(plaintext.encode())\n",
    "            s.sendall(b'\\n')\n",
    "\n",
    "            output = s.recv(1024)\n",
    "\n",
    "    \n",
    "    #Get the ciphertext (first 32 symbols) and the trace (last 34 symbols)\n",
    "    result = re.findall(pattern, str(output))\n",
    "    #print(result[0], result[1])\n",
    "    \n",
    "    #Transform the result into numpy array\n",
    "    ctext = np.frombuffer(binascii.unhexlify(result[0]), dtype=np.uint8)\n",
    "    trace = np.frombuffer(binascii.unhexlify(result[1]), dtype=np.uint8)\n",
    "\n",
    "    if (verbose):\n",
    "        print('Binary output:', output.strip())\n",
    "        print('Ciphertext as numpy array:', ctext)\n",
    "        print('Trace as numpy array:', trace)\n",
    "    \n",
    "    return output, ctext, trace\n",
    "\n",
    "\n",
    "#----------------------------------------------------------------------------\n",
    "# This function calls supportive library to compute a master key from\n",
    "# the last round key.\n",
    "#\n",
    "# INPUTS:\n",
    "#     last_round_key - a numpy array of 16 elements representing 16 hex bytes of\n",
    "#                      the last round key, i.e., Round Key 10\n",
    "# OUTPUTS:\n",
    "#     key_schedule  - 11 round keys of 16 bytes each (key_schedule[0,0,:] is the\n",
    "#                     master key\n",
    "#----------------------------------------------------------------------------\n",
    "# key_schedule = sca_training.inverse_key_expansion(last_round_key)"
   ]
  },
  {
   "cell_type": "code",
   "execution_count": 4,
   "metadata": {
    "tags": []
   },
   "outputs": [
    {
     "name": "stdout",
     "output_type": "stream",
     "text": [
      "Binary output: b'2DD52BC59D4196FE961054A06ECE1260 0505040305040304020403020603030302'\n",
      "Ciphertext as numpy array: [ 45 213  43 197 157  65 150 254 150  16  84 160 110 206  18  96]\n",
      "Trace as numpy array: [5 5 4 3 5 4 3 4 2 4 3 2 6 3 3 3 2]\n"
     ]
    }
   ],
   "source": [
    "output, ctext, trace = binary_aes128_encrypt('010203040506070809000a0b0c0d0e1f', verbose=True)"
   ]
  },
  {
   "cell_type": "code",
   "execution_count": 10,
   "metadata": {},
   "outputs": [
    {
     "name": "stderr",
     "output_type": "stream",
     "text": [
      "100%|████████████████████████████████████| 50000/50000 [00:55<00:00, 900.01it/s]\n"
     ]
    }
   ],
   "source": [
    "num_enc = 10000\n",
    "\n",
    "traces = np.zeros((num_enc, 17), dtype=np.uint8)\n",
    "ctexts = np.zeros((num_enc, 16), dtype=np.uint8)\n",
    "\n",
    "for iEnc in tqdm.tqdm(range(num_enc)):\n",
    "    ptext = '%032x' % random.randrange(16**32)\n",
    "    output, ctext, trace = binary_aes128_encrypt(ptext, verbose=False)\n",
    "    ctexts[iEnc,:] = ctext\n",
    "    traces[iEnc,:] = trace\n",
    "    \n",
    "del output\n",
    "del ctext\n",
    "del trace"
   ]
  },
  {
   "cell_type": "markdown",
   "metadata": {},
   "source": [
    "### ATTACK CODE\n",
    "Here you need to implement your attack which gives you the last round key.\n",
    "\n",
    "Once the last round key is found - you need to compute the master key: this can be done with the function get_master_key()\n",
    "\n",
    "### Programming tips\n",
    "#### Numpy code\n",
    "* np.matlib.repmat(array, num_rows, num_cols)\n",
    "* np.arange(256).astype(np.uint8)\n",
    "* np.bitwise_xor(m1, m2)\n",
    "* np.where()\n",
    "\n",
    "#### Code prepared for training\n",
    "* sca_training.invSbox[sbox_out]\n",
    "* sca_training.HW_uint8[sbox_in]\n",
    "* sca_training.shift_rows(traces)\n",
    "* sca_training.compute_correlation()\n",
    "\n",
    "#### Various cod\n",
    "* ''.join('{:02x}'.format(c) for c in int_array)"
   ]
  },
  {
   "cell_type": "code",
   "execution_count": null,
   "metadata": {},
   "outputs": [],
   "source": []
  }
 ],
 "metadata": {
  "kernelspec": {
   "display_name": "Python 3 (ipykernel)",
   "language": "python",
   "name": "python3"
  },
  "language_info": {
   "codemirror_mode": {
    "name": "ipython",
    "version": 3
   },
   "file_extension": ".py",
   "mimetype": "text/x-python",
   "name": "python",
   "nbconvert_exporter": "python",
   "pygments_lexer": "ipython3",
   "version": "3.10.10"
  }
 },
 "nbformat": 4,
 "nbformat_minor": 4
}
