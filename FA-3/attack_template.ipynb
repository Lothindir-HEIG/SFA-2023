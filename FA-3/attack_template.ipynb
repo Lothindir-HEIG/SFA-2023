{
 "cells": [
  {
   "attachments": {},
   "cell_type": "markdown",
   "id": "9d1ce393-313b-4f31-8cfb-4d14f7faf7d7",
   "metadata": {},
   "source": [
    "# FA3/FA4 - Fault injection on real target\n",
    "\n",
    "With this exercise, you will practice fault injeciton on a real target.\n",
    "\n",
    "# Challenge\n",
    "\n",
    "### Characterization\n",
    "\n",
    "To characterize the best parameters, you will have to glitch a simple function which counts up to 2500. If the right parameters are set, the device should reply with a value different than that.\n",
    "\n",
    "### Attack\n",
    "\n",
    "Once the good parameters are found, the next step is to attack the password checking function (same as simulated exercises). \n",
    "Again, there are two flags to find :\n",
    "\n",
    " * One flag is displayed if the passwortd checking function returns 1\n",
    " * The other flag is the correct password\n",
    "\n",
    "## Chipwhipserer glitch parameters\n",
    "\n",
    "Lots of parameters can be tweaked to find the *sweet spot* where the device glitches but resumes execution. Most of the parameters are already fixed, but the remaining ones depend on your target.\n",
    "\n",
    "![](Images/cwlitepro_glitch.webp)\n"
   ]
  },
  {
   "cell_type": "code",
   "execution_count": 7,
   "id": "dca27d61-362e-4524-a965-d32443926fd9",
   "metadata": {
    "tags": []
   },
   "outputs": [],
   "source": [
    "#Imports\n",
    "\n",
    "import chipwhisperer as cw\n",
    "import numpy as np\n",
    "import time\n",
    "import matplotlib.pyplot as plt"
   ]
  },
  {
   "cell_type": "code",
   "execution_count": 8,
   "id": "a4840721-fe0f-4cdb-8193-354d9d8e8d3d",
   "metadata": {
    "tags": []
   },
   "outputs": [
    {
     "ename": "OSError",
     "evalue": "Unable to communicate with found ChipWhisperer. Check that \nanother process isn't connected to it and that you have permission to communicate with it.",
     "output_type": "error",
     "traceback": [
      "\u001b[0;31m---------------------------------------------------------------------------\u001b[0m",
      "\u001b[0;31mOSError\u001b[0m                                   Traceback (most recent call last)",
      "Cell \u001b[0;32mIn[8], line 3\u001b[0m\n\u001b[1;32m      1\u001b[0m \u001b[39m# Chipwhisperer basic configuration\u001b[39;00m\n\u001b[0;32m----> 3\u001b[0m scope \u001b[39m=\u001b[39m cw\u001b[39m.\u001b[39;49mscope()\n\u001b[1;32m      4\u001b[0m target \u001b[39m=\u001b[39m cw\u001b[39m.\u001b[39mtarget(scope, cw\u001b[39m.\u001b[39mtargets\u001b[39m.\u001b[39mSimpleSerial2)\n\u001b[1;32m      5\u001b[0m prog \u001b[39m=\u001b[39m cw\u001b[39m.\u001b[39mprogrammers\u001b[39m.\u001b[39mSTM32FProgrammer\n",
      "File \u001b[0;32m~/mambaforge/envs/SFA/lib/python3.11/site-packages/chipwhisperer/__init__.py:384\u001b[0m, in \u001b[0;36mscope\u001b[0;34m(scope_type, name, sn, idProduct, bitstream, force, prog_speed, **kwargs)\u001b[0m\n\u001b[1;32m    381\u001b[0m         \u001b[39mraise\u001b[39;00m \u001b[39mValueError\u001b[39;00m\n\u001b[1;32m    383\u001b[0m \u001b[39mif\u001b[39;00m scope_type \u001b[39mis\u001b[39;00m \u001b[39mNone\u001b[39;00m:\n\u001b[0;32m--> 384\u001b[0m     scope_type \u001b[39m=\u001b[39m get_cw_type(\u001b[39m*\u001b[39;49m\u001b[39m*\u001b[39;49mkwargs)\n\u001b[1;32m    385\u001b[0m rtn : scopes\u001b[39m.\u001b[39mScopeTypes \u001b[39m=\u001b[39m scope_type()\n\u001b[1;32m    386\u001b[0m \u001b[39mtry\u001b[39;00m:\n",
      "File \u001b[0;32m~/mambaforge/envs/SFA/lib/python3.11/site-packages/chipwhisperer/common/utils/util.py:522\u001b[0m, in \u001b[0;36mget_cw_type\u001b[0;34m(sn, idProduct, hw_location, **kwargs)\u001b[0m\n\u001b[1;32m    519\u001b[0m     possible_ids \u001b[39m=\u001b[39m [\u001b[39m0xace0\u001b[39m, \u001b[39m0xace2\u001b[39m, \u001b[39m0xace3\u001b[39m, \u001b[39m0xace5\u001b[39m]\n\u001b[1;32m    521\u001b[0m cwusb \u001b[39m=\u001b[39m NAEUSB_Backend()\n\u001b[0;32m--> 522\u001b[0m device \u001b[39m=\u001b[39m cwusb\u001b[39m.\u001b[39;49mfind(serial_number\u001b[39m=\u001b[39;49msn, idProduct\u001b[39m=\u001b[39;49mpossible_ids, hw_location\u001b[39m=\u001b[39;49mhw_location)\n\u001b[1;32m    523\u001b[0m name \u001b[39m=\u001b[39m device\u001b[39m.\u001b[39mgetProduct()\n\u001b[1;32m    524\u001b[0m cwusb\u001b[39m.\u001b[39musb_ctx\u001b[39m.\u001b[39mclose()\n",
      "File \u001b[0;32m~/mambaforge/envs/SFA/lib/python3.11/site-packages/chipwhisperer/hardware/naeusb/naeusb.py:342\u001b[0m, in \u001b[0;36mNAEUSB_Backend.find\u001b[0;34m(self, serial_number, idProduct, hw_location)\u001b[0m\n\u001b[1;32m    339\u001b[0m \u001b[39mdef\u001b[39;00m \u001b[39mfind\u001b[39m(\u001b[39mself\u001b[39m, serial_number : Optional[\u001b[39mstr\u001b[39m]\u001b[39m=\u001b[39m\u001b[39mNone\u001b[39;00m, idProduct : Optional[List[\u001b[39mint\u001b[39m]]\u001b[39m=\u001b[39m\u001b[39mNone\u001b[39;00m, \n\u001b[1;32m    340\u001b[0m     hw_location : Optional[Tuple[\u001b[39mint\u001b[39m, \u001b[39mint\u001b[39m]]\u001b[39m=\u001b[39m\u001b[39mNone\u001b[39;00m) \u001b[39m-\u001b[39m\u001b[39m>\u001b[39m usb1\u001b[39m.\u001b[39mUSBDevice:\n\u001b[1;32m    341\u001b[0m     \u001b[39m# check if we got anything\u001b[39;00m\n\u001b[0;32m--> 342\u001b[0m     dev_list \u001b[39m=\u001b[39m \u001b[39mself\u001b[39;49m\u001b[39m.\u001b[39;49mget_possible_devices(idProduct, attempt_access\u001b[39m=\u001b[39;49m(\u001b[39mnot\u001b[39;49;00m hw_location))\n\u001b[1;32m    343\u001b[0m     \u001b[39mif\u001b[39;00m \u001b[39mlen\u001b[39m(dev_list) \u001b[39m==\u001b[39m \u001b[39m0\u001b[39m:\n\u001b[1;32m    344\u001b[0m         \u001b[39mraise\u001b[39;00m \u001b[39mOSError\u001b[39;00m(\u001b[39m\"\u001b[39m\u001b[39mCould not find ChipWhisperer. Is it connected?\u001b[39m\u001b[39m\"\u001b[39m)\n",
      "File \u001b[0;32m~/mambaforge/envs/SFA/lib/python3.11/site-packages/chipwhisperer/hardware/naeusb/naeusb.py:466\u001b[0m, in \u001b[0;36mNAEUSB_Backend.get_possible_devices\u001b[0;34m(self, idProduct, dictonly, attempt_access)\u001b[0m\n\u001b[1;32m    463\u001b[0m                 dev_list\u001b[39m.\u001b[39mremove(dev)\n\u001b[1;32m    465\u001b[0m         \u001b[39mif\u001b[39;00m \u001b[39mlen\u001b[39m(dev_list) \u001b[39m==\u001b[39m \u001b[39m0\u001b[39m:\n\u001b[0;32m--> 466\u001b[0m             \u001b[39mraise\u001b[39;00m \u001b[39mOSError\u001b[39;00m(\u001b[39m\"\u001b[39m\u001b[39mUnable to communicate with found ChipWhisperer. Check that \u001b[39m\u001b[39m\\\u001b[39;00m\n\u001b[1;32m    467\u001b[0m \u001b[39m\\n\u001b[39;00m\u001b[39manother process isn\u001b[39m\u001b[39m'\u001b[39m\u001b[39mt connected to it and that you have permission to communicate with it.\u001b[39m\u001b[39m\"\u001b[39m)\n\u001b[1;32m    469\u001b[0m         \u001b[39mreturn\u001b[39;00m dev_list\n",
      "\u001b[0;31mOSError\u001b[0m: Unable to communicate with found ChipWhisperer. Check that \nanother process isn't connected to it and that you have permission to communicate with it."
     ]
    }
   ],
   "source": [
    "# Chipwhisperer basic configuration\n",
    "\n",
    "scope = cw.scope()\n",
    "target = cw.target(scope, cw.targets.SimpleSerial2)\n",
    "prog = cw.programmers.STM32FProgrammer\n",
    "scope.default_setup()\n",
    "\n",
    "#Chipwhisperer clock is fed to the target chip\n",
    "scope.clock.clkgen_freq = 24E6\n",
    "target.baud = 230400*24/7.37\n",
    "\n",
    "cw.set_all_log_levels(cw.logging.CRITICAL)"
   ]
  },
  {
   "cell_type": "code",
   "execution_count": null,
   "id": "657eee5c-a0f2-422a-9d8e-2174963b027e",
   "metadata": {
    "tags": []
   },
   "outputs": [],
   "source": [
    "#Helper functions\n",
    "\n",
    "def target_reset():\n",
    "    scope.io.nrst = 'low'\n",
    "    time.sleep(0.05)\n",
    "    scope.io.nrst = 'high_z'\n",
    "    time.sleep(0.05)\n",
    "    target.flush()\n"
   ]
  },
  {
   "cell_type": "code",
   "execution_count": null,
   "id": "f23c6d39-2d33-455e-9bac-b2be0905caf4",
   "metadata": {
    "tags": []
   },
   "outputs": [],
   "source": [
    "#Test that everything goes wekk by sending the loop command and check its output\n",
    "\n",
    "target_reset()\n",
    "scope.arm()\n",
    "target.simpleserial_write(\"g\", bytearray([]))\n",
    "scope.capture()\n",
    "val = target.simpleserial_read_witherrors('r', 4, glitch_timeout=10)#For loop check\n",
    "valid = val['valid']\n",
    "if valid:\n",
    "    response = val['payload']\n",
    "    raw_serial = val['full_response']\n",
    "    error_code = val['rv']\n",
    "\n",
    "print(val)\n",
    "# Should print\n",
    "# {'valid': True, 'payload': CWbytearray(b'c4 09 00 00'), 'full_response': CWbytearray(b'00 72 04 c4 09 00 00 15 00'), 'rv': bytearray(b'\\x00')}"
   ]
  },
  {
   "cell_type": "code",
   "execution_count": null,
   "id": "31d1f7d2-26be-4493-b898-cd21cf57d202",
   "metadata": {
    "tags": []
   },
   "outputs": [],
   "source": [
    "#Basic glitch settings\n",
    "\n",
    "scope.glitch.clk_src = \"clkgen\" # glitch counters use the main clock (24MHz)\n",
    "scope.glitch.output = \"glitch_only\" # Glitch output signal\n",
    "scope.glitch.trigger_src = \"ext_single\" # glitch only after scope.arm() called\n",
    "scope.io.glitch_lp = True # Enable low power MOSFET\n",
    "scope.io.glitch_hp = True # Enable high power MOSFET\n",
    "scope.glitch.repeat = 7 # Number of successive glitches, 7 should be OK for our target"
   ]
  },
  {
   "cell_type": "code",
   "execution_count": null,
   "id": "70c63476-dcd1-41e3-86f7-fec8323e8c5b",
   "metadata": {
    "tags": []
   },
   "outputs": [],
   "source": [
    "# Characterization loop\n",
    "\n",
    "# Thic block will iterate over some of the glitch parameters to locate the \"sweet spot\"\n",
    "# where the glitches produce an effect\n",
    "\n",
    "# Change this block accordingly in order to find the parameters that produce\n",
    "# the maximum amount of glitches before going further the template\n",
    "\n",
    "# ext_offset is the number of clock cycles after the trigger\n",
    "\n",
    "for ext_offset in range(1,2):\n",
    "    scope.glitch.ext_offset = ext_offset\n",
    "    \n",
    "    # offset is the percentage into the clock cycle where the glitch starts\n",
    "    for offset in np.arange(-40.0, 40.0, 0.2):\n",
    "        scope.glitch.offset = offset\n",
    "        \n",
    "        # Width is the percentage of the period to glitch\n",
    "        for width in  np.arange(32, 39, 0.2):\n",
    "            scope.glitch.width = width\n",
    "            \n",
    "            # Repeat each iteration 5 times to ensure we get consistant results\n",
    "            count = 0\n",
    "            for _ in range(5):\n",
    "                \n",
    "                #Fun starts here\n",
    "                target_reset()\n",
    "                scope.arm()\n",
    "                target.simpleserial_write(\"g\", bytearray([]))\n",
    "                ret = scope.capture()\n",
    "                #scope.io.vglitch_reset()\n",
    "                \n",
    "                # read response from target\n",
    "                val = target.simpleserial_read_witherrors('r', 4, glitch_timeout=10, timeout=30)\n",
    "                \n",
    "                # If no response from the chip, assume it crashed\n",
    "                if val['valid'] is False:\n",
    "                    print(\"X\", end=\"\")\n",
    "                    continue\n",
    "                \n",
    "                # if counter is different thant the correct value, print the results\n",
    "                counter = int.from_bytes(val['payload'], byteorder='little')\n",
    "                if counter != 2500:\n",
    "                    count += 1\n",
    "                    print(f\"*{counter:08d}*\", end=\"\")\n",
    "                    \n",
    "                else:\n",
    "                    print(\".\", end=\"\")\n",
    "            if count > 0:\n",
    "                print()\n",
    "                print(f\"Count {count:02d}\\text_offset {ext_offset:02d}\\tWidth {width:0.2f}\\tOffset {offset:0.2f}\")"
   ]
  },
  {
   "cell_type": "code",
   "execution_count": null,
   "id": "2267b1f4-0e63-4215-a3a6-031ab4ca6bd3",
   "metadata": {
    "tags": []
   },
   "outputs": [],
   "source": [
    "\n",
    "# ext_offset is the number of clock cycles after the trigger\n",
    "for ext_offset in range(1,30):\n",
    "    scope.glitch.ext_offset = ext_offset\n",
    "    \n",
    "    # offset is the percentage into the clock cycle where the glitch starts\n",
    "    for offset in np.arange(-40.0, 40.0, 0.4): # TODO shorten range\n",
    "        scope.glitch.offset = offset\n",
    "        \n",
    "        # Width is the percentage of the period to glitch\n",
    "        for width in  np.arange(32, 39, 0.4): # TODO shorten range\n",
    "            scope.glitch.width = width\n",
    "\n",
    "\n",
    "            for _ in range(10):\n",
    "\n",
    "                #Fun starts here\n",
    "\n",
    "                target_reset()\n",
    "                scope.arm()\n",
    "                # Send dummy password\n",
    "                target.simpleserial_write(\"p\", b\"aaaaaaaaaaaaaaaa\")\n",
    "                ret = scope.capture()\n",
    "                #scope.io.vglitch_reset()\n",
    "\n",
    "                val = target.simpleserial_read_witherrors('r', 16, glitch_timeout=10, timeout=30)\n",
    "                if val['valid'] is False:\n",
    "                    print(\"X\", end=\"\")\n",
    "                    continue\n",
    "\n",
    "                result = val['payload']\n",
    "                if b\"NOPE\" not in result:\n",
    "                    print()\n",
    "                    print(f\"ext_offset {ext_offset:02d}\\tWidth {width:0.2f}\\tOffset {offset:0.2f}\\tResult {result.hex()}\")\n",
    "                    try:\n",
    "                        print(result.decode())\n",
    "                    except:\n",
    "                        pass\n",
    "\n",
    "                else:\n",
    "                    print(\".\", end=\"\")\n"
   ]
  },
  {
   "cell_type": "code",
   "execution_count": 42,
   "id": "c7fd38f8-58fb-4d47-9dd0-f552cf42de8e",
   "metadata": {
    "tags": []
   },
   "outputs": [
    {
     "data": {
      "text/plain": [
       "True"
      ]
     },
     "execution_count": 42,
     "metadata": {},
     "output_type": "execute_result"
    }
   ],
   "source": [
    "scope.dis()"
   ]
  },
  {
   "cell_type": "code",
   "execution_count": null,
   "id": "afd07e3e-2280-4ef9-8cda-b20a18de4137",
   "metadata": {},
   "outputs": [],
   "source": []
  }
 ],
 "metadata": {
  "kernelspec": {
   "display_name": "Python 3 (ipykernel)",
   "language": "python",
   "name": "python3"
  },
  "language_info": {
   "codemirror_mode": {
    "name": "ipython",
    "version": 3
   },
   "file_extension": ".py",
   "mimetype": "text/x-python",
   "name": "python",
   "nbconvert_exporter": "python",
   "pygments_lexer": "ipython3",
   "version": "3.11.3"
  }
 },
 "nbformat": 4,
 "nbformat_minor": 5
}
