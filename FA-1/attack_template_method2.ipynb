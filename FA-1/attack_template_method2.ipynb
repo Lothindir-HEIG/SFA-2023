{
 "cells": [
  {
   "cell_type": "markdown",
   "id": "3e16bec5-4124-4da6-80b7-633bde01d217",
   "metadata": {},
   "source": [
    "# Fault injection simulation example\n",
    "\n",
    "This template will help you understand how fault injection works.\n",
    "\n",
    "The following graph will show you the disassembly of the `check_password()` function. \n",
    "Try to bypass the authentication and retrieve the flag ;)\n",
    "\n",
    "```\n",
    "    ┌──────────────────────────────────────────────────────┐\n",
    "    │  0x1209                                              │\n",
    "    │ 91: sym.check_password (int64_t arg1, int64_t arg2); │\n",
    "    │ ; arg int64_t arg1 @ rdi                             │\n",
    "    │ ; arg int64_t arg2 @ rsi                             │\n",
    "    │ ; var int64_t var_1h @ rbp-0x1                       │\n",
    "    │ ; var int64_t var_2h @ rbp-0x2                       │\n",
    "    │ ; var int64_t var_18h @ rbp-0x18                     │\n",
    "    │ ; var int64_t var_20h @ rbp-0x20                     │\n",
    "    │ push rbp                                             │\n",
    "    │ mov rbp, rsp                                         │\n",
    "    │ ; arg1                                               │\n",
    "    │ mov qword [var_18h], rdi                             │\n",
    "    │ ; arg2                                               │\n",
    "    │ mov qword [var_20h], rsi                             │\n",
    "    │ mov byte [var_2h], 0                                 │\n",
    "    │ mov byte [var_1h], 0                                 │\n",
    "    │ jmp 0x124a                                           │\n",
    "    └──────────────────────────────────────────────────────┘\n",
    "        v\n",
    "        │\n",
    "       ┌┘\n",
    "┌────────┐\n",
    "│      │ │                                                      \n",
    "│┌─────────────────────────────────────────────────────────────┐\n",
    "││  0x124a                                                     │\n",
    "││ ; CODE XREFS from sym.check_password @ 0x1209(x), 0x121d(x) │\n",
    "││ cmp byte [var_1h], 0xf                                      │\n",
    "││ jbe 0x121f                                                  │\n",
    "│└─────────────────────────────────────────────────────────────┘\n",
    "│        f t\n",
    "│        │ │\n",
    "│        │ │\n",
    "│        └───────────────────────────────────┐\n",
    "│          │                                 │                      \n",
    "│      ┌─────────────────────────────┐   ┌─────────────────────────┐\n",
    "│      │  0x121f                     │   │  0x1250                 │\n",
    "│      │ movzx edx, byte [var_1h]    │   │ cmp byte [var_2h], 0    │\n",
    "│      │ mov rax, qword [var_18h]    │   │ jne 0x125d              │\n",
    "│      │ add rax, rdx                │   └─────────────────────────┘\n",
    "│      │ movzx ecx, byte [rax]       │           f t\n",
    "│      │ movzx edx, byte [var_1h]    │           │ │\n",
    "│      │ mov rax, qword [var_20h]    │           │ │\n",
    "│      │ add rax, rdx                │           │ │\n",
    "│      │ movzx eax, byte [rax]       │           │ │\n",
    "│      │ xor eax, ecx                │           │ │\n",
    "│      │ or byte [var_2h], al        │           │ │\n",
    "│      │ movzx eax, byte [var_1h]    │           │ │\n",
    "│      │ add eax, 1                  │           │ │\n",
    "│      │ mov byte [var_1h], al       │           │ │\n",
    "│      └─────────────────────────────┘           │ │\n",
    "│          v                                     │ │\n",
    "│          │                                     │ │\n",
    "└──────────┘                                     │ │\n",
    "                                                 │ └────────┐\n",
    "                                  ┌──────────────┘          │\n",
    "                                  │                         │                 \n",
    "                              ┌────────────────────┐    ┌────────────────────┐\n",
    "                              │  0x1256            │    │  0x125d            │\n",
    "                              │ mov eax, 1         │    │ mov eax, 0         │\n",
    "                              │ jmp 0x1262         │    └────────────────────┘\n",
    "                              └────────────────────┘        v\n",
    "                                  v                         │\n",
    "                                  │                         │\n",
    "                             ┌────┘                         │\n",
    "                             │ ┌────────────────────────────┘\n",
    "                             │ │                                                      \n",
    "                       ┌─────────────────────────────────────────────────────────────┐\n",
    "                       │  0x1262                                                     │\n",
    "                       │ ; CODE XREFS from sym.check_password @ 0x1209(x), 0x125b(x) │\n",
    "                       │ pop rbp                                                     │\n",
    "                       │ ret                                                         │\n",
    "                       └─────────────────────────────────────────────────────────────┘\n",
    "```"
   ]
  },
  {
   "cell_type": "code",
   "execution_count": 2,
   "id": "4d3f558c-0391-4ae1-935b-0b05e8fdd115",
   "metadata": {
    "tags": []
   },
   "outputs": [],
   "source": [
    "import socket\n",
    "import time"
   ]
  },
  {
   "cell_type": "code",
   "execution_count": 3,
   "id": "c0fc5383-1cc7-437c-9b10-c3e1bf91d1e0",
   "metadata": {
    "tags": []
   },
   "outputs": [],
   "source": [
    "HOST = 'iict-mv330-sfa.einet.ad.eivd.ch'\n",
    "PORT = 5000"
   ]
  },
  {
   "cell_type": "code",
   "execution_count": 50,
   "id": "9263c53d-1ce5-476e-8bb5-c63672b28b0d",
   "metadata": {
    "tags": []
   },
   "outputs": [],
   "source": [
    "# Helper functions\n",
    "\n",
    "def recv_until(s, msg):\n",
    "    buf = b''\n",
    "    while 1:\n",
    "        buf += s.recv(1)\n",
    "        if msg in buf:\n",
    "            break\n",
    "\n",
    "def sample(password, step):\n",
    "    s = socket.socket(socket.AF_INET, socket.SOCK_STREAM)\n",
    "    s.connect((HOST, PORT))\n",
    "    recv_until(s, b'Enter password: ')\n",
    "    s.sendall(password+b'\\n')\n",
    "    recv_until(s, b'Enter instruction number:')\n",
    "    s.sendall(str(step).encode() + b'\\n')\n",
    "    recv_until(s, b'Skipping')\n",
    "    data = s.recv(1000)\n",
    "    data = s.recv(1000)\n",
    "    s.close()\n",
    "    return 'Well done' in data.decode()"
   ]
  },
  {
   "cell_type": "code",
   "execution_count": 60,
   "id": "5ca95474-8832-4de2-9a7e-1ec4e62a2ade",
   "metadata": {
    "tags": []
   },
   "outputs": [
    {
     "name": "stdout",
     "output_type": "stream",
     "text": [
      "H\n",
      "HE\n",
      "HEI\n",
      "HEIG\n",
      "HEIG{\n",
      "HEIG{B\n",
      "HEIG{B4\n",
      "HEIG{B4d\n",
      "HEIG{B4dP\n",
      "HEIG{B4dP@\n",
      "HEIG{B4dP@s\n",
      "HEIG{B4dP@ss\n",
      "HEIG{B4dP@ssw\n",
      "HEIG{B4dP@sswr\n",
      "HEIG{B4dP@sswrd\n",
      "HEIG{B4dP@sswrd}\n"
     ]
    }
   ],
   "source": [
    "#Example, try 1234 as password, and skip first instruction\n",
    "char_set = b'0123456789abcdefghijklmnopqrstuvwxyzABCDEFGHIJKLMNOPQRSTUVWXYZ@{}'\n",
    "password = ''\n",
    "for i in range(16):\n",
    "  offset = 19+15*(i+1)\n",
    "  for c in char_set:\n",
    "      if sample(bytes(password + chr(c), \"UTF-8\"), offset):\n",
    "          # print(str(chr(c)))\n",
    "          password += chr(c)\n",
    "          break\n",
    "  print(password)\n"
   ]
  }
 ],
 "metadata": {
  "kernelspec": {
   "display_name": "Python 3 (ipykernel)",
   "language": "python",
   "name": "python3"
  },
  "language_info": {
   "codemirror_mode": {
    "name": "ipython",
    "version": 3
   },
   "file_extension": ".py",
   "mimetype": "text/x-python",
   "name": "python",
   "nbconvert_exporter": "python",
   "pygments_lexer": "ipython3",
   "version": "3.11.3"
  }
 },
 "nbformat": 4,
 "nbformat_minor": 5
}
