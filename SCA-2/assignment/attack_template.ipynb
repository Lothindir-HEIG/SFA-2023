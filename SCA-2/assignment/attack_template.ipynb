{
 "cells": [
  {
   "cell_type": "markdown",
   "metadata": {},
   "source": [
    "### Description:\n",
    "\n",
    "AES-128 algorithm with a hardcoded key is available as service.\n",
    "\n",
    "To perform encryption, the binary requires 16-bytes plaintext (in hex):\n",
    "\n",
    "```\n",
    "    ../wbcenc --ptext=\"010203040506070809000a0b0c0d0e1f\"\n",
    "```    \n",
    "The result is printed to console:\n",
    "```\n",
    "    5FB9620C3E645F5487FCC688C07794C2 05070305060605030204010405030503\n",
    "```    \n",
    "where:\n",
    "```\n",
    "    5FB9620C3E645F5487FCC688C07794C2 is a ciphertext\n",
    "    \n",
    "    05070305060605030204010405030503 is a trace (information left by a programmer)\n",
    "```\n",
    "### Tips:\n",
    "\n",
    "A 'trace' is a side-channel information left by a programmer to debug the implementation.\n",
    "\n",
    "In this example a trace consists of Hamming weights for a 10th round input state bytes of the AES-128 algorithm, i.e., a State before the Sbox operation in the last round.\n",
    "\n",
    "### Task:\n",
    "\n",
    "Your task is to find the Master key (round key 0) embedded into the binary. \n",
    "\n",
    "The master key is in the form of HEIG{XXXXXXXXXX}, where X is an ASCII printable symbol."
   ]
  },
  {
   "cell_type": "markdown",
   "metadata": {},
   "source": [
    "### Leakage illustration\n",
    "\n",
    "<img src=\"support/Slide.png\">"
   ]
  },
  {
   "cell_type": "code",
   "execution_count": 1,
   "metadata": {
    "tags": []
   },
   "outputs": [],
   "source": [
    "import numpy as np\n",
    "import numpy.matlib as npm\n",
    "import binascii\n",
    "import string\n",
    "import re\n",
    "import socket\n",
    "\n",
    "HOST = 'iict-mv330-sfa'\n",
    "PORT = 4001\n",
    "\n",
    "import sca_training\n",
    "#----------------------------------------------------------------------------\n",
    "# This function calls tested binary ../wbcenc either with a user-defined \n",
    "# plaintext (if plaintext satisfies all the requirements) or with a \n",
    "# predefined plaintext (the same as in the header above)\n",
    "#\n",
    "# INPUTS:\n",
    "#     plaintext - a string of 32 symbols representing 16 hex bytes of ciphertext\n",
    "#     verbose   - a flag to print values in the function call or not\n",
    "# OUTPUTS:\n",
    "#     output  - a raw binary output\n",
    "#     ctext   - resulted ciphertext converted to numpy array of uint8\n",
    "#     trace   - a trace associated with encryption process\n",
    "#----------------------------------------------------------------------------\n",
    "def binary_aes128_encrypt(plaintext, verbose=False):\n",
    "    import subprocess\n",
    "    pattern = '[0-9A-F]{32}'\n",
    "    \n",
    "    #Check the correctness of the plaintext\n",
    "    if all(c in string.hexdigits for c in plaintext) and len(plaintext) == 32:\n",
    "        \n",
    "        with socket.socket(socket.AF_INET, socket.SOCK_STREAM) as s:\n",
    "            s.connect((HOST, PORT))\n",
    "            s.recv(1024)\n",
    "            s.sendall(plaintext.encode())\n",
    "            s.sendall(b'\\n')\n",
    "\n",
    "            output = s.recv(1024)\n",
    "    \n",
    "    #Get the ciphertext (first 32 symbols) and the trace (last 32 symbols)\n",
    "    result = re.findall(pattern, str(output))\n",
    "    #print(result[0], result[1])\n",
    "    \n",
    "    #Transform the result into numpy array\n",
    "    ctext = np.frombuffer(binascii.unhexlify(result[0]), dtype=np.uint8)\n",
    "    trace = np.frombuffer(binascii.unhexlify(result[1]), dtype=np.uint8)\n",
    "\n",
    "    if (verbose):\n",
    "        print('Binary output:', output.strip())\n",
    "        print('Ciphertext as numpy array:', ctext)\n",
    "        print('Trace as numpy array:', trace)\n",
    "    \n",
    "    return output, ctext, trace\n",
    "\n",
    "\n",
    "#----------------------------------------------------------------------------\n",
    "# This function calls supportive library to compute a master key from\n",
    "# the last round key.\n",
    "#\n",
    "# INPUTS:\n",
    "#     last_round_key - a numpy array of 16 elements representing 16 hex bytes of\n",
    "#                      the last round key, i.e., Round Key 10\n",
    "# OUTPUTS:\n",
    "#     key_schedule  - 11 round keys of 16 bytes each (key_schedule[0,0,:] is the\n",
    "#                     master key\n",
    "#----------------------------------------------------------------------------\n",
    "# key_schedule = sca_training.inverse_key_expansion(last_round_key)"
   ]
  },
  {
   "cell_type": "code",
   "execution_count": 2,
   "metadata": {
    "tags": []
   },
   "outputs": [
    {
     "name": "stdout",
     "output_type": "stream",
     "text": [
      "Binary output: b'5FB9620C3E645F5487FCC688C07794C2 05070305060605030204010405030503'\n",
      "Ciphertext as numpy array: [ 95 185  98  12  62 100  95  84 135 252 198 136 192 119 148 194]\n",
      "Trace as numpy array: [5 7 3 5 6 6 5 3 2 4 1 4 5 3 5 3]\n"
     ]
    }
   ],
   "source": [
    "output, ctext, trace = binary_aes128_encrypt(\"010203040506070809000a0b0c0d0e1f\", verbose=True)"
   ]
  },
  {
   "cell_type": "markdown",
   "metadata": {},
   "source": [
    "### ATTACK CODE\n",
    "Here you need to implement your attack which gives you the last round key.\n",
    "\n",
    "Once the last round key is found - you need to compute the master key: this can be done with the function get_master_key()\n",
    "\n",
    "### Programming tips\n",
    "#### Numpy code\n",
    "* np.arange(256).astype(np.uint8)\n",
    "* np.bitwise_xor(m1, m2)\n",
    "* np.where()\n",
    "\n",
    "#### Code prepared for training\n",
    "* sca_training.invSbox[sbox_out]\n",
    "* sca_training.shift_rows(trace)\n",
    "\n",
    "#### Various cod\n",
    "* ''.join('{:02x}'.format(c) for c in int_array)"
   ]
  },
  {
   "cell_type": "code",
   "execution_count": 8,
   "metadata": {},
   "outputs": [
    {
     "name": "stdout",
     "output_type": "stream",
     "text": [
      "Only one key candidate remained for ciphertext byte 0\n",
      "Only one key candidate remained for ciphertext byte 1\n",
      "Only one key candidate remained for ciphertext byte 2\n",
      "Only one key candidate remained for ciphertext byte 3\n",
      "Only one key candidate remained for ciphertext byte 4\n",
      "Only one key candidate remained for ciphertext byte 5\n",
      "Only one key candidate remained for ciphertext byte 6\n",
      "Only one key candidate remained for ciphertext byte 7\n",
      "Only one key candidate remained for ciphertext byte 8\n",
      "Only one key candidate remained for ciphertext byte 9\n",
      "Only one key candidate remained for ciphertext byte 10\n",
      "Only one key candidate remained for ciphertext byte 11\n",
      "Only one key candidate remained for ciphertext byte 12\n",
      "Only one key candidate remained for ciphertext byte 13\n",
      "Only one key candidate remained for ciphertext byte 14\n",
      "Only one key candidate remained for ciphertext byte 15\n",
      "(1, 11, 16)\n",
      "Master key in hex: [ 72  69  73  71 123  72  97 109 109 105 110 103  72  87  50 125]\n",
      "Master key in ASCII: b'HEIG{HammingHW2}'\n"
     ]
    }
   ],
   "source": [
    "from sca_training import invSbox, inv_shift_rows\n",
    "import random\n",
    "\n",
    "SAMPLES = 32\n",
    "\n",
    "ctexts = np.zeros((SAMPLES, 16), dtype=np.uint8)\n",
    "traces = np.zeros((SAMPLES, 16), dtype=np.uint8)\n",
    "\n",
    "for i in range(SAMPLES):\n",
    "    o, ct, trace = binary_aes128_encrypt(np.random.bytes(16).hex(), verbose=False)\n",
    "    ctexts[i, :] = ct\n",
    "    traces[i, :] = trace\n",
    "\n",
    "shifted_traces = sca_training.shift_rows(traces)\n",
    "key_cand = npm.repmat(np.arange(256).astype(np.uint8), SAMPLES, 1)\n",
    "key = np.zeros(16).astype(np.uint8)\n",
    "\n",
    "for k_i in range(16):\n",
    "    sbox_out = np.bitwise_xor(key_cand, ctexts[:, k_i].reshape(SAMPLES, 1))\n",
    "    inv_sbox = sca_training.invSbox[sbox_out]\n",
    "    inv_sbox_hw = sca_training.HW_uint8[inv_sbox]\n",
    "\n",
    "    # Revoir\n",
    "    best_keys = np.where(np.sum(inv_sbox_hw==shifted_traces[:,k_i].reshape(SAMPLES,1), axis=0) == SAMPLES)[0]\n",
    "\n",
    "    if len(best_keys) == 0:\n",
    "        print('No key candidates remained for ciphertext byte', k_i)\n",
    "\n",
    "    if len(best_keys) == 1:\n",
    "        print('Only one key candidate remained for ciphertext byte', k_i)\n",
    "        key[k_i] = best_keys[0]\n",
    "\n",
    "    if len(best_keys) > 1:\n",
    "        print('Several key candidates remained for ciphertext byte', k_i)\n",
    "        print(best_keys)\n",
    "\n",
    "key_schedule = sca_training.inverse_key_expansion(key)\n",
    "print(key_schedule.shape)\n",
    "\n",
    "print('Master key in hex:', key_schedule[0,0,:])\n",
    "\n",
    "print('Master key in ASCII:', binascii.unhexlify(''.join('{:02x}'.format(c) for c in key_schedule[0,0,:])))\n",
    "    "
   ]
  }
 ],
 "metadata": {
  "kernelspec": {
   "display_name": "Python 3 (ipykernel)",
   "language": "python",
   "name": "python3"
  },
  "language_info": {
   "codemirror_mode": {
    "name": "ipython",
    "version": 3
   },
   "file_extension": ".py",
   "mimetype": "text/x-python",
   "name": "python",
   "nbconvert_exporter": "python",
   "pygments_lexer": "ipython3",
   "version": "3.11.3"
  }
 },
 "nbformat": 4,
 "nbformat_minor": 4
}
